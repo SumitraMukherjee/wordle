{
  "nbformat": 4,
  "nbformat_minor": 0,
  "metadata": {
    "colab": {
      "provenance": [],
      "authorship_tag": "ABX9TyNlZubd++z8eXhO/3d7rxw+",
      "include_colab_link": true
    },
    "kernelspec": {
      "name": "python3",
      "display_name": "Python 3"
    },
    "language_info": {
      "name": "python"
    },
    "widgets": {
      "application/vnd.jupyter.widget-state+json": {
        "0e32116d3df748a6a99456e9f00c99c9": {
          "model_module": "@jupyter-widgets/controls",
          "model_name": "GridBoxModel",
          "model_module_version": "1.5.0",
          "state": {
            "_dom_classes": [],
            "_model_module": "@jupyter-widgets/controls",
            "_model_module_version": "1.5.0",
            "_model_name": "GridBoxModel",
            "_view_count": null,
            "_view_module": "@jupyter-widgets/controls",
            "_view_module_version": "1.5.0",
            "_view_name": "GridBoxView",
            "box_style": "",
            "children": [
              "IPY_MODEL_a5c12dfb29244f6a8f3f3489b126131b",
              "IPY_MODEL_38a5e43e331447f29677b5d123841788",
              "IPY_MODEL_46877e256f4e4821a7188309760eb58f",
              "IPY_MODEL_f849c28c5eb34ee780643338fd567f66",
              "IPY_MODEL_eaa8a080b40547cfac79de69ed6bb08a",
              "IPY_MODEL_c52e7b626efa4a239fa8bd2ae178a90d",
              "IPY_MODEL_f83084e0a54e4fb5b389047b47e3a334",
              "IPY_MODEL_4dfe72161dbe49db82c43d83db2a12ba",
              "IPY_MODEL_445fb40aef1f4583919accca84025c94",
              "IPY_MODEL_6d3bf63435b94e71bf1777300725a4ba",
              "IPY_MODEL_aab3025b6a8d468a8c26669f2e73fef2",
              "IPY_MODEL_39140c7fe2b84e16875de8e040a6aa9f",
              "IPY_MODEL_36afda3450ed4596b9633037f3941e33",
              "IPY_MODEL_138f38189c9b43bfa31ab523f214f93b",
              "IPY_MODEL_4f09c40443d1434c9f3c521cd78188f8",
              "IPY_MODEL_219efec7422543a0bafb63f7b004496d",
              "IPY_MODEL_22065b217ed241cfbe8a11bca738b71b",
              "IPY_MODEL_6dcd27f3ac7246dfbd52321f7ed17896",
              "IPY_MODEL_5628ca1c4af74a5199d54e23cc06c56d",
              "IPY_MODEL_089f160b33214e22945503a253013bef",
              "IPY_MODEL_02a004ad07fb4033bbcea1613affbe97",
              "IPY_MODEL_51c591657dd94d308060daa65ff06610",
              "IPY_MODEL_844f0dd7480740c4b4b5bd6ce387c6ee",
              "IPY_MODEL_5369c293b47b436285b9d07a461cd845",
              "IPY_MODEL_39293bd7435347bca550b44af6760bf6",
              "IPY_MODEL_46b9c28c55f04a17aae6abed6cb4c94f",
              "IPY_MODEL_84ba26678f2c48458a05b29fa241d5e6",
              "IPY_MODEL_df95d923df9c4b8e900670a5fefc5365",
              "IPY_MODEL_f5aa07bdea4e435793f1f804def6078c",
              "IPY_MODEL_83bd6105a80a44918016a2350405e11c"
            ],
            "layout": "IPY_MODEL_ae7452e7e2144521869fbe03355921b3"
          }
        },
        "a5c12dfb29244f6a8f3f3489b126131b": {
          "model_module": "@jupyter-widgets/controls",
          "model_name": "ButtonModel",
          "model_module_version": "1.5.0",
          "state": {
            "_dom_classes": [],
            "_model_module": "@jupyter-widgets/controls",
            "_model_module_version": "1.5.0",
            "_model_name": "ButtonModel",
            "_view_count": null,
            "_view_module": "@jupyter-widgets/controls",
            "_view_module_version": "1.5.0",
            "_view_name": "ButtonView",
            "button_style": "",
            "description": "",
            "disabled": false,
            "icon": "",
            "layout": "IPY_MODEL_2c87f3b8d521494b87f7b4d72cbbb276",
            "style": "IPY_MODEL_ce428bf994e748fbb51f5e3a4bf2a158",
            "tooltip": ""
          }
        },
        "38a5e43e331447f29677b5d123841788": {
          "model_module": "@jupyter-widgets/controls",
          "model_name": "ButtonModel",
          "model_module_version": "1.5.0",
          "state": {
            "_dom_classes": [],
            "_model_module": "@jupyter-widgets/controls",
            "_model_module_version": "1.5.0",
            "_model_name": "ButtonModel",
            "_view_count": null,
            "_view_module": "@jupyter-widgets/controls",
            "_view_module_version": "1.5.0",
            "_view_name": "ButtonView",
            "button_style": "",
            "description": "",
            "disabled": false,
            "icon": "",
            "layout": "IPY_MODEL_2c87f3b8d521494b87f7b4d72cbbb276",
            "style": "IPY_MODEL_c452da7182a24661a65f7cfc9c7e409d",
            "tooltip": ""
          }
        },
        "46877e256f4e4821a7188309760eb58f": {
          "model_module": "@jupyter-widgets/controls",
          "model_name": "ButtonModel",
          "model_module_version": "1.5.0",
          "state": {
            "_dom_classes": [],
            "_model_module": "@jupyter-widgets/controls",
            "_model_module_version": "1.5.0",
            "_model_name": "ButtonModel",
            "_view_count": null,
            "_view_module": "@jupyter-widgets/controls",
            "_view_module_version": "1.5.0",
            "_view_name": "ButtonView",
            "button_style": "",
            "description": "",
            "disabled": false,
            "icon": "",
            "layout": "IPY_MODEL_2c87f3b8d521494b87f7b4d72cbbb276",
            "style": "IPY_MODEL_e26665c238bd4e789e971a98aa9b1d40",
            "tooltip": ""
          }
        },
        "f849c28c5eb34ee780643338fd567f66": {
          "model_module": "@jupyter-widgets/controls",
          "model_name": "ButtonModel",
          "model_module_version": "1.5.0",
          "state": {
            "_dom_classes": [],
            "_model_module": "@jupyter-widgets/controls",
            "_model_module_version": "1.5.0",
            "_model_name": "ButtonModel",
            "_view_count": null,
            "_view_module": "@jupyter-widgets/controls",
            "_view_module_version": "1.5.0",
            "_view_name": "ButtonView",
            "button_style": "",
            "description": "",
            "disabled": false,
            "icon": "",
            "layout": "IPY_MODEL_2c87f3b8d521494b87f7b4d72cbbb276",
            "style": "IPY_MODEL_e0691186227949d2a24dbba2f6dd3afd",
            "tooltip": ""
          }
        },
        "eaa8a080b40547cfac79de69ed6bb08a": {
          "model_module": "@jupyter-widgets/controls",
          "model_name": "ButtonModel",
          "model_module_version": "1.5.0",
          "state": {
            "_dom_classes": [],
            "_model_module": "@jupyter-widgets/controls",
            "_model_module_version": "1.5.0",
            "_model_name": "ButtonModel",
            "_view_count": null,
            "_view_module": "@jupyter-widgets/controls",
            "_view_module_version": "1.5.0",
            "_view_name": "ButtonView",
            "button_style": "",
            "description": "",
            "disabled": false,
            "icon": "",
            "layout": "IPY_MODEL_2c87f3b8d521494b87f7b4d72cbbb276",
            "style": "IPY_MODEL_5a60f579e16149f4b4d8549bf659c5c2",
            "tooltip": ""
          }
        },
        "c52e7b626efa4a239fa8bd2ae178a90d": {
          "model_module": "@jupyter-widgets/controls",
          "model_name": "ButtonModel",
          "model_module_version": "1.5.0",
          "state": {
            "_dom_classes": [],
            "_model_module": "@jupyter-widgets/controls",
            "_model_module_version": "1.5.0",
            "_model_name": "ButtonModel",
            "_view_count": null,
            "_view_module": "@jupyter-widgets/controls",
            "_view_module_version": "1.5.0",
            "_view_name": "ButtonView",
            "button_style": "",
            "description": "",
            "disabled": false,
            "icon": "",
            "layout": "IPY_MODEL_2c87f3b8d521494b87f7b4d72cbbb276",
            "style": "IPY_MODEL_49e7b272920843849e6009f42fffca9c",
            "tooltip": ""
          }
        },
        "f83084e0a54e4fb5b389047b47e3a334": {
          "model_module": "@jupyter-widgets/controls",
          "model_name": "ButtonModel",
          "model_module_version": "1.5.0",
          "state": {
            "_dom_classes": [],
            "_model_module": "@jupyter-widgets/controls",
            "_model_module_version": "1.5.0",
            "_model_name": "ButtonModel",
            "_view_count": null,
            "_view_module": "@jupyter-widgets/controls",
            "_view_module_version": "1.5.0",
            "_view_name": "ButtonView",
            "button_style": "",
            "description": "",
            "disabled": false,
            "icon": "",
            "layout": "IPY_MODEL_2c87f3b8d521494b87f7b4d72cbbb276",
            "style": "IPY_MODEL_faa0e9e3bdb24e47a59d2d1430ac35db",
            "tooltip": ""
          }
        },
        "4dfe72161dbe49db82c43d83db2a12ba": {
          "model_module": "@jupyter-widgets/controls",
          "model_name": "ButtonModel",
          "model_module_version": "1.5.0",
          "state": {
            "_dom_classes": [],
            "_model_module": "@jupyter-widgets/controls",
            "_model_module_version": "1.5.0",
            "_model_name": "ButtonModel",
            "_view_count": null,
            "_view_module": "@jupyter-widgets/controls",
            "_view_module_version": "1.5.0",
            "_view_name": "ButtonView",
            "button_style": "",
            "description": "",
            "disabled": false,
            "icon": "",
            "layout": "IPY_MODEL_2c87f3b8d521494b87f7b4d72cbbb276",
            "style": "IPY_MODEL_6fb6f7f191a9406895dda95461bb832a",
            "tooltip": ""
          }
        },
        "445fb40aef1f4583919accca84025c94": {
          "model_module": "@jupyter-widgets/controls",
          "model_name": "ButtonModel",
          "model_module_version": "1.5.0",
          "state": {
            "_dom_classes": [],
            "_model_module": "@jupyter-widgets/controls",
            "_model_module_version": "1.5.0",
            "_model_name": "ButtonModel",
            "_view_count": null,
            "_view_module": "@jupyter-widgets/controls",
            "_view_module_version": "1.5.0",
            "_view_name": "ButtonView",
            "button_style": "",
            "description": "",
            "disabled": false,
            "icon": "",
            "layout": "IPY_MODEL_2c87f3b8d521494b87f7b4d72cbbb276",
            "style": "IPY_MODEL_746d9c0f1b654e2eb9369195ce99f332",
            "tooltip": ""
          }
        },
        "6d3bf63435b94e71bf1777300725a4ba": {
          "model_module": "@jupyter-widgets/controls",
          "model_name": "ButtonModel",
          "model_module_version": "1.5.0",
          "state": {
            "_dom_classes": [],
            "_model_module": "@jupyter-widgets/controls",
            "_model_module_version": "1.5.0",
            "_model_name": "ButtonModel",
            "_view_count": null,
            "_view_module": "@jupyter-widgets/controls",
            "_view_module_version": "1.5.0",
            "_view_name": "ButtonView",
            "button_style": "",
            "description": "",
            "disabled": false,
            "icon": "",
            "layout": "IPY_MODEL_2c87f3b8d521494b87f7b4d72cbbb276",
            "style": "IPY_MODEL_6ac77fe373334295beee590f73b15e7d",
            "tooltip": ""
          }
        },
        "aab3025b6a8d468a8c26669f2e73fef2": {
          "model_module": "@jupyter-widgets/controls",
          "model_name": "ButtonModel",
          "model_module_version": "1.5.0",
          "state": {
            "_dom_classes": [],
            "_model_module": "@jupyter-widgets/controls",
            "_model_module_version": "1.5.0",
            "_model_name": "ButtonModel",
            "_view_count": null,
            "_view_module": "@jupyter-widgets/controls",
            "_view_module_version": "1.5.0",
            "_view_name": "ButtonView",
            "button_style": "",
            "description": "",
            "disabled": false,
            "icon": "",
            "layout": "IPY_MODEL_2c87f3b8d521494b87f7b4d72cbbb276",
            "style": "IPY_MODEL_d334f8121eb648d4944507ec33f4d71d",
            "tooltip": ""
          }
        },
        "39140c7fe2b84e16875de8e040a6aa9f": {
          "model_module": "@jupyter-widgets/controls",
          "model_name": "ButtonModel",
          "model_module_version": "1.5.0",
          "state": {
            "_dom_classes": [],
            "_model_module": "@jupyter-widgets/controls",
            "_model_module_version": "1.5.0",
            "_model_name": "ButtonModel",
            "_view_count": null,
            "_view_module": "@jupyter-widgets/controls",
            "_view_module_version": "1.5.0",
            "_view_name": "ButtonView",
            "button_style": "",
            "description": "",
            "disabled": false,
            "icon": "",
            "layout": "IPY_MODEL_2c87f3b8d521494b87f7b4d72cbbb276",
            "style": "IPY_MODEL_6a13ebf84b2c4c909730ff3096cc4908",
            "tooltip": ""
          }
        },
        "36afda3450ed4596b9633037f3941e33": {
          "model_module": "@jupyter-widgets/controls",
          "model_name": "ButtonModel",
          "model_module_version": "1.5.0",
          "state": {
            "_dom_classes": [],
            "_model_module": "@jupyter-widgets/controls",
            "_model_module_version": "1.5.0",
            "_model_name": "ButtonModel",
            "_view_count": null,
            "_view_module": "@jupyter-widgets/controls",
            "_view_module_version": "1.5.0",
            "_view_name": "ButtonView",
            "button_style": "",
            "description": "",
            "disabled": false,
            "icon": "",
            "layout": "IPY_MODEL_2c87f3b8d521494b87f7b4d72cbbb276",
            "style": "IPY_MODEL_4a2e140e12f240cfb9ac7eae36078f32",
            "tooltip": ""
          }
        },
        "138f38189c9b43bfa31ab523f214f93b": {
          "model_module": "@jupyter-widgets/controls",
          "model_name": "ButtonModel",
          "model_module_version": "1.5.0",
          "state": {
            "_dom_classes": [],
            "_model_module": "@jupyter-widgets/controls",
            "_model_module_version": "1.5.0",
            "_model_name": "ButtonModel",
            "_view_count": null,
            "_view_module": "@jupyter-widgets/controls",
            "_view_module_version": "1.5.0",
            "_view_name": "ButtonView",
            "button_style": "",
            "description": "",
            "disabled": false,
            "icon": "",
            "layout": "IPY_MODEL_2c87f3b8d521494b87f7b4d72cbbb276",
            "style": "IPY_MODEL_2dee1377ec98401d90f9c6171e5ddecf",
            "tooltip": ""
          }
        },
        "4f09c40443d1434c9f3c521cd78188f8": {
          "model_module": "@jupyter-widgets/controls",
          "model_name": "ButtonModel",
          "model_module_version": "1.5.0",
          "state": {
            "_dom_classes": [],
            "_model_module": "@jupyter-widgets/controls",
            "_model_module_version": "1.5.0",
            "_model_name": "ButtonModel",
            "_view_count": null,
            "_view_module": "@jupyter-widgets/controls",
            "_view_module_version": "1.5.0",
            "_view_name": "ButtonView",
            "button_style": "",
            "description": "",
            "disabled": false,
            "icon": "",
            "layout": "IPY_MODEL_2c87f3b8d521494b87f7b4d72cbbb276",
            "style": "IPY_MODEL_e9f7a29039e24e4f8ea4043036e415fa",
            "tooltip": ""
          }
        },
        "219efec7422543a0bafb63f7b004496d": {
          "model_module": "@jupyter-widgets/controls",
          "model_name": "ButtonModel",
          "model_module_version": "1.5.0",
          "state": {
            "_dom_classes": [],
            "_model_module": "@jupyter-widgets/controls",
            "_model_module_version": "1.5.0",
            "_model_name": "ButtonModel",
            "_view_count": null,
            "_view_module": "@jupyter-widgets/controls",
            "_view_module_version": "1.5.0",
            "_view_name": "ButtonView",
            "button_style": "",
            "description": "",
            "disabled": false,
            "icon": "",
            "layout": "IPY_MODEL_2c87f3b8d521494b87f7b4d72cbbb276",
            "style": "IPY_MODEL_9ea8b2d0203f4da39ba4441fc52464d8",
            "tooltip": ""
          }
        },
        "22065b217ed241cfbe8a11bca738b71b": {
          "model_module": "@jupyter-widgets/controls",
          "model_name": "ButtonModel",
          "model_module_version": "1.5.0",
          "state": {
            "_dom_classes": [],
            "_model_module": "@jupyter-widgets/controls",
            "_model_module_version": "1.5.0",
            "_model_name": "ButtonModel",
            "_view_count": null,
            "_view_module": "@jupyter-widgets/controls",
            "_view_module_version": "1.5.0",
            "_view_name": "ButtonView",
            "button_style": "",
            "description": "",
            "disabled": false,
            "icon": "",
            "layout": "IPY_MODEL_2c87f3b8d521494b87f7b4d72cbbb276",
            "style": "IPY_MODEL_303f51f81ae24a72b4c261ff4d3a6d15",
            "tooltip": ""
          }
        },
        "6dcd27f3ac7246dfbd52321f7ed17896": {
          "model_module": "@jupyter-widgets/controls",
          "model_name": "ButtonModel",
          "model_module_version": "1.5.0",
          "state": {
            "_dom_classes": [],
            "_model_module": "@jupyter-widgets/controls",
            "_model_module_version": "1.5.0",
            "_model_name": "ButtonModel",
            "_view_count": null,
            "_view_module": "@jupyter-widgets/controls",
            "_view_module_version": "1.5.0",
            "_view_name": "ButtonView",
            "button_style": "",
            "description": "",
            "disabled": false,
            "icon": "",
            "layout": "IPY_MODEL_2c87f3b8d521494b87f7b4d72cbbb276",
            "style": "IPY_MODEL_0e64197a68fc43ffbf3ee9cda3d794de",
            "tooltip": ""
          }
        },
        "5628ca1c4af74a5199d54e23cc06c56d": {
          "model_module": "@jupyter-widgets/controls",
          "model_name": "ButtonModel",
          "model_module_version": "1.5.0",
          "state": {
            "_dom_classes": [],
            "_model_module": "@jupyter-widgets/controls",
            "_model_module_version": "1.5.0",
            "_model_name": "ButtonModel",
            "_view_count": null,
            "_view_module": "@jupyter-widgets/controls",
            "_view_module_version": "1.5.0",
            "_view_name": "ButtonView",
            "button_style": "",
            "description": "",
            "disabled": false,
            "icon": "",
            "layout": "IPY_MODEL_2c87f3b8d521494b87f7b4d72cbbb276",
            "style": "IPY_MODEL_7a9e3c567c234b4c97f2f3fce7b14353",
            "tooltip": ""
          }
        },
        "089f160b33214e22945503a253013bef": {
          "model_module": "@jupyter-widgets/controls",
          "model_name": "ButtonModel",
          "model_module_version": "1.5.0",
          "state": {
            "_dom_classes": [],
            "_model_module": "@jupyter-widgets/controls",
            "_model_module_version": "1.5.0",
            "_model_name": "ButtonModel",
            "_view_count": null,
            "_view_module": "@jupyter-widgets/controls",
            "_view_module_version": "1.5.0",
            "_view_name": "ButtonView",
            "button_style": "",
            "description": "",
            "disabled": false,
            "icon": "",
            "layout": "IPY_MODEL_2c87f3b8d521494b87f7b4d72cbbb276",
            "style": "IPY_MODEL_a3811731d98848beb01f8136a076d84e",
            "tooltip": ""
          }
        },
        "02a004ad07fb4033bbcea1613affbe97": {
          "model_module": "@jupyter-widgets/controls",
          "model_name": "ButtonModel",
          "model_module_version": "1.5.0",
          "state": {
            "_dom_classes": [],
            "_model_module": "@jupyter-widgets/controls",
            "_model_module_version": "1.5.0",
            "_model_name": "ButtonModel",
            "_view_count": null,
            "_view_module": "@jupyter-widgets/controls",
            "_view_module_version": "1.5.0",
            "_view_name": "ButtonView",
            "button_style": "",
            "description": "",
            "disabled": false,
            "icon": "",
            "layout": "IPY_MODEL_2c87f3b8d521494b87f7b4d72cbbb276",
            "style": "IPY_MODEL_9282324cc9dc450a928285f8fc0cb5d8",
            "tooltip": ""
          }
        },
        "51c591657dd94d308060daa65ff06610": {
          "model_module": "@jupyter-widgets/controls",
          "model_name": "ButtonModel",
          "model_module_version": "1.5.0",
          "state": {
            "_dom_classes": [],
            "_model_module": "@jupyter-widgets/controls",
            "_model_module_version": "1.5.0",
            "_model_name": "ButtonModel",
            "_view_count": null,
            "_view_module": "@jupyter-widgets/controls",
            "_view_module_version": "1.5.0",
            "_view_name": "ButtonView",
            "button_style": "",
            "description": "",
            "disabled": false,
            "icon": "",
            "layout": "IPY_MODEL_2c87f3b8d521494b87f7b4d72cbbb276",
            "style": "IPY_MODEL_3780a7be91ce4031abb7aff92abecd53",
            "tooltip": ""
          }
        },
        "844f0dd7480740c4b4b5bd6ce387c6ee": {
          "model_module": "@jupyter-widgets/controls",
          "model_name": "ButtonModel",
          "model_module_version": "1.5.0",
          "state": {
            "_dom_classes": [],
            "_model_module": "@jupyter-widgets/controls",
            "_model_module_version": "1.5.0",
            "_model_name": "ButtonModel",
            "_view_count": null,
            "_view_module": "@jupyter-widgets/controls",
            "_view_module_version": "1.5.0",
            "_view_name": "ButtonView",
            "button_style": "",
            "description": "",
            "disabled": false,
            "icon": "",
            "layout": "IPY_MODEL_2c87f3b8d521494b87f7b4d72cbbb276",
            "style": "IPY_MODEL_cedf673a760b41f5b53fbaffcaedac49",
            "tooltip": ""
          }
        },
        "5369c293b47b436285b9d07a461cd845": {
          "model_module": "@jupyter-widgets/controls",
          "model_name": "ButtonModel",
          "model_module_version": "1.5.0",
          "state": {
            "_dom_classes": [],
            "_model_module": "@jupyter-widgets/controls",
            "_model_module_version": "1.5.0",
            "_model_name": "ButtonModel",
            "_view_count": null,
            "_view_module": "@jupyter-widgets/controls",
            "_view_module_version": "1.5.0",
            "_view_name": "ButtonView",
            "button_style": "",
            "description": "",
            "disabled": false,
            "icon": "",
            "layout": "IPY_MODEL_2c87f3b8d521494b87f7b4d72cbbb276",
            "style": "IPY_MODEL_ed8698b2078547719f3cfcf95ee88b9b",
            "tooltip": ""
          }
        },
        "39293bd7435347bca550b44af6760bf6": {
          "model_module": "@jupyter-widgets/controls",
          "model_name": "ButtonModel",
          "model_module_version": "1.5.0",
          "state": {
            "_dom_classes": [],
            "_model_module": "@jupyter-widgets/controls",
            "_model_module_version": "1.5.0",
            "_model_name": "ButtonModel",
            "_view_count": null,
            "_view_module": "@jupyter-widgets/controls",
            "_view_module_version": "1.5.0",
            "_view_name": "ButtonView",
            "button_style": "",
            "description": "",
            "disabled": false,
            "icon": "",
            "layout": "IPY_MODEL_2c87f3b8d521494b87f7b4d72cbbb276",
            "style": "IPY_MODEL_cefc1dceeab8488a80fcdfba397c23f2",
            "tooltip": ""
          }
        },
        "46b9c28c55f04a17aae6abed6cb4c94f": {
          "model_module": "@jupyter-widgets/controls",
          "model_name": "ButtonModel",
          "model_module_version": "1.5.0",
          "state": {
            "_dom_classes": [],
            "_model_module": "@jupyter-widgets/controls",
            "_model_module_version": "1.5.0",
            "_model_name": "ButtonModel",
            "_view_count": null,
            "_view_module": "@jupyter-widgets/controls",
            "_view_module_version": "1.5.0",
            "_view_name": "ButtonView",
            "button_style": "",
            "description": "",
            "disabled": false,
            "icon": "",
            "layout": "IPY_MODEL_2c87f3b8d521494b87f7b4d72cbbb276",
            "style": "IPY_MODEL_f1573be5d3fa4cfab206e4b0d51f91b2",
            "tooltip": ""
          }
        },
        "84ba26678f2c48458a05b29fa241d5e6": {
          "model_module": "@jupyter-widgets/controls",
          "model_name": "ButtonModel",
          "model_module_version": "1.5.0",
          "state": {
            "_dom_classes": [],
            "_model_module": "@jupyter-widgets/controls",
            "_model_module_version": "1.5.0",
            "_model_name": "ButtonModel",
            "_view_count": null,
            "_view_module": "@jupyter-widgets/controls",
            "_view_module_version": "1.5.0",
            "_view_name": "ButtonView",
            "button_style": "",
            "description": "",
            "disabled": false,
            "icon": "",
            "layout": "IPY_MODEL_2c87f3b8d521494b87f7b4d72cbbb276",
            "style": "IPY_MODEL_5fb8c610bd304d6c8f070507bb15049b",
            "tooltip": ""
          }
        },
        "df95d923df9c4b8e900670a5fefc5365": {
          "model_module": "@jupyter-widgets/controls",
          "model_name": "ButtonModel",
          "model_module_version": "1.5.0",
          "state": {
            "_dom_classes": [],
            "_model_module": "@jupyter-widgets/controls",
            "_model_module_version": "1.5.0",
            "_model_name": "ButtonModel",
            "_view_count": null,
            "_view_module": "@jupyter-widgets/controls",
            "_view_module_version": "1.5.0",
            "_view_name": "ButtonView",
            "button_style": "",
            "description": "",
            "disabled": false,
            "icon": "",
            "layout": "IPY_MODEL_2c87f3b8d521494b87f7b4d72cbbb276",
            "style": "IPY_MODEL_710c2c9b94e34746b029743ae234f4a9",
            "tooltip": ""
          }
        },
        "f5aa07bdea4e435793f1f804def6078c": {
          "model_module": "@jupyter-widgets/controls",
          "model_name": "ButtonModel",
          "model_module_version": "1.5.0",
          "state": {
            "_dom_classes": [],
            "_model_module": "@jupyter-widgets/controls",
            "_model_module_version": "1.5.0",
            "_model_name": "ButtonModel",
            "_view_count": null,
            "_view_module": "@jupyter-widgets/controls",
            "_view_module_version": "1.5.0",
            "_view_name": "ButtonView",
            "button_style": "",
            "description": "",
            "disabled": false,
            "icon": "",
            "layout": "IPY_MODEL_2c87f3b8d521494b87f7b4d72cbbb276",
            "style": "IPY_MODEL_fd441ba8ca6348b69e5323c7c7a17195",
            "tooltip": ""
          }
        },
        "83bd6105a80a44918016a2350405e11c": {
          "model_module": "@jupyter-widgets/controls",
          "model_name": "ButtonModel",
          "model_module_version": "1.5.0",
          "state": {
            "_dom_classes": [],
            "_model_module": "@jupyter-widgets/controls",
            "_model_module_version": "1.5.0",
            "_model_name": "ButtonModel",
            "_view_count": null,
            "_view_module": "@jupyter-widgets/controls",
            "_view_module_version": "1.5.0",
            "_view_name": "ButtonView",
            "button_style": "",
            "description": "",
            "disabled": false,
            "icon": "",
            "layout": "IPY_MODEL_2c87f3b8d521494b87f7b4d72cbbb276",
            "style": "IPY_MODEL_2b4fe0cd4d684ecbb7a272b670057f6e",
            "tooltip": ""
          }
        },
        "ae7452e7e2144521869fbe03355921b3": {
          "model_module": "@jupyter-widgets/base",
          "model_name": "LayoutModel",
          "model_module_version": "1.2.0",
          "state": {
            "_model_module": "@jupyter-widgets/base",
            "_model_module_version": "1.2.0",
            "_model_name": "LayoutModel",
            "_view_count": null,
            "_view_module": "@jupyter-widgets/base",
            "_view_module_version": "1.2.0",
            "_view_name": "LayoutView",
            "align_content": null,
            "align_items": null,
            "align_self": null,
            "border": null,
            "bottom": null,
            "display": null,
            "flex": null,
            "flex_flow": null,
            "grid_area": null,
            "grid_auto_columns": null,
            "grid_auto_flow": null,
            "grid_auto_rows": null,
            "grid_column": null,
            "grid_gap": null,
            "grid_row": null,
            "grid_template_areas": null,
            "grid_template_columns": "repeat(5, 40px)",
            "grid_template_rows": null,
            "height": null,
            "justify_content": null,
            "justify_items": null,
            "left": null,
            "margin": null,
            "max_height": null,
            "max_width": null,
            "min_height": null,
            "min_width": null,
            "object_fit": null,
            "object_position": null,
            "order": null,
            "overflow": null,
            "overflow_x": null,
            "overflow_y": null,
            "padding": null,
            "right": null,
            "top": null,
            "visibility": null,
            "width": null
          }
        },
        "2c87f3b8d521494b87f7b4d72cbbb276": {
          "model_module": "@jupyter-widgets/base",
          "model_name": "LayoutModel",
          "model_module_version": "1.2.0",
          "state": {
            "_model_module": "@jupyter-widgets/base",
            "_model_module_version": "1.2.0",
            "_model_name": "LayoutModel",
            "_view_count": null,
            "_view_module": "@jupyter-widgets/base",
            "_view_module_version": "1.2.0",
            "_view_name": "LayoutView",
            "align_content": null,
            "align_items": null,
            "align_self": null,
            "border": "1px solid",
            "bottom": null,
            "display": null,
            "flex": null,
            "flex_flow": null,
            "grid_area": null,
            "grid_auto_columns": null,
            "grid_auto_flow": null,
            "grid_auto_rows": null,
            "grid_column": null,
            "grid_gap": null,
            "grid_row": null,
            "grid_template_areas": null,
            "grid_template_columns": null,
            "grid_template_rows": null,
            "height": "40px",
            "justify_content": null,
            "justify_items": null,
            "left": null,
            "margin": null,
            "max_height": null,
            "max_width": null,
            "min_height": null,
            "min_width": null,
            "object_fit": null,
            "object_position": null,
            "order": null,
            "overflow": null,
            "overflow_x": null,
            "overflow_y": null,
            "padding": null,
            "right": null,
            "top": null,
            "visibility": null,
            "width": "100%"
          }
        },
        "ce428bf994e748fbb51f5e3a4bf2a158": {
          "model_module": "@jupyter-widgets/controls",
          "model_name": "ButtonStyleModel",
          "model_module_version": "1.5.0",
          "state": {
            "_model_module": "@jupyter-widgets/controls",
            "_model_module_version": "1.5.0",
            "_model_name": "ButtonStyleModel",
            "_view_count": null,
            "_view_module": "@jupyter-widgets/base",
            "_view_module_version": "1.2.0",
            "_view_name": "StyleView",
            "button_color": "white",
            "font_weight": ""
          }
        },
        "c452da7182a24661a65f7cfc9c7e409d": {
          "model_module": "@jupyter-widgets/controls",
          "model_name": "ButtonStyleModel",
          "model_module_version": "1.5.0",
          "state": {
            "_model_module": "@jupyter-widgets/controls",
            "_model_module_version": "1.5.0",
            "_model_name": "ButtonStyleModel",
            "_view_count": null,
            "_view_module": "@jupyter-widgets/base",
            "_view_module_version": "1.2.0",
            "_view_name": "StyleView",
            "button_color": "white",
            "font_weight": ""
          }
        },
        "e26665c238bd4e789e971a98aa9b1d40": {
          "model_module": "@jupyter-widgets/controls",
          "model_name": "ButtonStyleModel",
          "model_module_version": "1.5.0",
          "state": {
            "_model_module": "@jupyter-widgets/controls",
            "_model_module_version": "1.5.0",
            "_model_name": "ButtonStyleModel",
            "_view_count": null,
            "_view_module": "@jupyter-widgets/base",
            "_view_module_version": "1.2.0",
            "_view_name": "StyleView",
            "button_color": "white",
            "font_weight": ""
          }
        },
        "e0691186227949d2a24dbba2f6dd3afd": {
          "model_module": "@jupyter-widgets/controls",
          "model_name": "ButtonStyleModel",
          "model_module_version": "1.5.0",
          "state": {
            "_model_module": "@jupyter-widgets/controls",
            "_model_module_version": "1.5.0",
            "_model_name": "ButtonStyleModel",
            "_view_count": null,
            "_view_module": "@jupyter-widgets/base",
            "_view_module_version": "1.2.0",
            "_view_name": "StyleView",
            "button_color": "white",
            "font_weight": ""
          }
        },
        "5a60f579e16149f4b4d8549bf659c5c2": {
          "model_module": "@jupyter-widgets/controls",
          "model_name": "ButtonStyleModel",
          "model_module_version": "1.5.0",
          "state": {
            "_model_module": "@jupyter-widgets/controls",
            "_model_module_version": "1.5.0",
            "_model_name": "ButtonStyleModel",
            "_view_count": null,
            "_view_module": "@jupyter-widgets/base",
            "_view_module_version": "1.2.0",
            "_view_name": "StyleView",
            "button_color": "white",
            "font_weight": ""
          }
        },
        "49e7b272920843849e6009f42fffca9c": {
          "model_module": "@jupyter-widgets/controls",
          "model_name": "ButtonStyleModel",
          "model_module_version": "1.5.0",
          "state": {
            "_model_module": "@jupyter-widgets/controls",
            "_model_module_version": "1.5.0",
            "_model_name": "ButtonStyleModel",
            "_view_count": null,
            "_view_module": "@jupyter-widgets/base",
            "_view_module_version": "1.2.0",
            "_view_name": "StyleView",
            "button_color": "white",
            "font_weight": ""
          }
        },
        "faa0e9e3bdb24e47a59d2d1430ac35db": {
          "model_module": "@jupyter-widgets/controls",
          "model_name": "ButtonStyleModel",
          "model_module_version": "1.5.0",
          "state": {
            "_model_module": "@jupyter-widgets/controls",
            "_model_module_version": "1.5.0",
            "_model_name": "ButtonStyleModel",
            "_view_count": null,
            "_view_module": "@jupyter-widgets/base",
            "_view_module_version": "1.2.0",
            "_view_name": "StyleView",
            "button_color": "white",
            "font_weight": ""
          }
        },
        "6fb6f7f191a9406895dda95461bb832a": {
          "model_module": "@jupyter-widgets/controls",
          "model_name": "ButtonStyleModel",
          "model_module_version": "1.5.0",
          "state": {
            "_model_module": "@jupyter-widgets/controls",
            "_model_module_version": "1.5.0",
            "_model_name": "ButtonStyleModel",
            "_view_count": null,
            "_view_module": "@jupyter-widgets/base",
            "_view_module_version": "1.2.0",
            "_view_name": "StyleView",
            "button_color": "white",
            "font_weight": ""
          }
        },
        "746d9c0f1b654e2eb9369195ce99f332": {
          "model_module": "@jupyter-widgets/controls",
          "model_name": "ButtonStyleModel",
          "model_module_version": "1.5.0",
          "state": {
            "_model_module": "@jupyter-widgets/controls",
            "_model_module_version": "1.5.0",
            "_model_name": "ButtonStyleModel",
            "_view_count": null,
            "_view_module": "@jupyter-widgets/base",
            "_view_module_version": "1.2.0",
            "_view_name": "StyleView",
            "button_color": "white",
            "font_weight": ""
          }
        },
        "6ac77fe373334295beee590f73b15e7d": {
          "model_module": "@jupyter-widgets/controls",
          "model_name": "ButtonStyleModel",
          "model_module_version": "1.5.0",
          "state": {
            "_model_module": "@jupyter-widgets/controls",
            "_model_module_version": "1.5.0",
            "_model_name": "ButtonStyleModel",
            "_view_count": null,
            "_view_module": "@jupyter-widgets/base",
            "_view_module_version": "1.2.0",
            "_view_name": "StyleView",
            "button_color": "white",
            "font_weight": ""
          }
        },
        "d334f8121eb648d4944507ec33f4d71d": {
          "model_module": "@jupyter-widgets/controls",
          "model_name": "ButtonStyleModel",
          "model_module_version": "1.5.0",
          "state": {
            "_model_module": "@jupyter-widgets/controls",
            "_model_module_version": "1.5.0",
            "_model_name": "ButtonStyleModel",
            "_view_count": null,
            "_view_module": "@jupyter-widgets/base",
            "_view_module_version": "1.2.0",
            "_view_name": "StyleView",
            "button_color": "white",
            "font_weight": ""
          }
        },
        "6a13ebf84b2c4c909730ff3096cc4908": {
          "model_module": "@jupyter-widgets/controls",
          "model_name": "ButtonStyleModel",
          "model_module_version": "1.5.0",
          "state": {
            "_model_module": "@jupyter-widgets/controls",
            "_model_module_version": "1.5.0",
            "_model_name": "ButtonStyleModel",
            "_view_count": null,
            "_view_module": "@jupyter-widgets/base",
            "_view_module_version": "1.2.0",
            "_view_name": "StyleView",
            "button_color": "white",
            "font_weight": ""
          }
        },
        "4a2e140e12f240cfb9ac7eae36078f32": {
          "model_module": "@jupyter-widgets/controls",
          "model_name": "ButtonStyleModel",
          "model_module_version": "1.5.0",
          "state": {
            "_model_module": "@jupyter-widgets/controls",
            "_model_module_version": "1.5.0",
            "_model_name": "ButtonStyleModel",
            "_view_count": null,
            "_view_module": "@jupyter-widgets/base",
            "_view_module_version": "1.2.0",
            "_view_name": "StyleView",
            "button_color": "white",
            "font_weight": ""
          }
        },
        "2dee1377ec98401d90f9c6171e5ddecf": {
          "model_module": "@jupyter-widgets/controls",
          "model_name": "ButtonStyleModel",
          "model_module_version": "1.5.0",
          "state": {
            "_model_module": "@jupyter-widgets/controls",
            "_model_module_version": "1.5.0",
            "_model_name": "ButtonStyleModel",
            "_view_count": null,
            "_view_module": "@jupyter-widgets/base",
            "_view_module_version": "1.2.0",
            "_view_name": "StyleView",
            "button_color": "white",
            "font_weight": ""
          }
        },
        "e9f7a29039e24e4f8ea4043036e415fa": {
          "model_module": "@jupyter-widgets/controls",
          "model_name": "ButtonStyleModel",
          "model_module_version": "1.5.0",
          "state": {
            "_model_module": "@jupyter-widgets/controls",
            "_model_module_version": "1.5.0",
            "_model_name": "ButtonStyleModel",
            "_view_count": null,
            "_view_module": "@jupyter-widgets/base",
            "_view_module_version": "1.2.0",
            "_view_name": "StyleView",
            "button_color": "white",
            "font_weight": ""
          }
        },
        "9ea8b2d0203f4da39ba4441fc52464d8": {
          "model_module": "@jupyter-widgets/controls",
          "model_name": "ButtonStyleModel",
          "model_module_version": "1.5.0",
          "state": {
            "_model_module": "@jupyter-widgets/controls",
            "_model_module_version": "1.5.0",
            "_model_name": "ButtonStyleModel",
            "_view_count": null,
            "_view_module": "@jupyter-widgets/base",
            "_view_module_version": "1.2.0",
            "_view_name": "StyleView",
            "button_color": "white",
            "font_weight": ""
          }
        },
        "303f51f81ae24a72b4c261ff4d3a6d15": {
          "model_module": "@jupyter-widgets/controls",
          "model_name": "ButtonStyleModel",
          "model_module_version": "1.5.0",
          "state": {
            "_model_module": "@jupyter-widgets/controls",
            "_model_module_version": "1.5.0",
            "_model_name": "ButtonStyleModel",
            "_view_count": null,
            "_view_module": "@jupyter-widgets/base",
            "_view_module_version": "1.2.0",
            "_view_name": "StyleView",
            "button_color": "white",
            "font_weight": ""
          }
        },
        "0e64197a68fc43ffbf3ee9cda3d794de": {
          "model_module": "@jupyter-widgets/controls",
          "model_name": "ButtonStyleModel",
          "model_module_version": "1.5.0",
          "state": {
            "_model_module": "@jupyter-widgets/controls",
            "_model_module_version": "1.5.0",
            "_model_name": "ButtonStyleModel",
            "_view_count": null,
            "_view_module": "@jupyter-widgets/base",
            "_view_module_version": "1.2.0",
            "_view_name": "StyleView",
            "button_color": "white",
            "font_weight": ""
          }
        },
        "7a9e3c567c234b4c97f2f3fce7b14353": {
          "model_module": "@jupyter-widgets/controls",
          "model_name": "ButtonStyleModel",
          "model_module_version": "1.5.0",
          "state": {
            "_model_module": "@jupyter-widgets/controls",
            "_model_module_version": "1.5.0",
            "_model_name": "ButtonStyleModel",
            "_view_count": null,
            "_view_module": "@jupyter-widgets/base",
            "_view_module_version": "1.2.0",
            "_view_name": "StyleView",
            "button_color": "white",
            "font_weight": ""
          }
        },
        "a3811731d98848beb01f8136a076d84e": {
          "model_module": "@jupyter-widgets/controls",
          "model_name": "ButtonStyleModel",
          "model_module_version": "1.5.0",
          "state": {
            "_model_module": "@jupyter-widgets/controls",
            "_model_module_version": "1.5.0",
            "_model_name": "ButtonStyleModel",
            "_view_count": null,
            "_view_module": "@jupyter-widgets/base",
            "_view_module_version": "1.2.0",
            "_view_name": "StyleView",
            "button_color": "white",
            "font_weight": ""
          }
        },
        "9282324cc9dc450a928285f8fc0cb5d8": {
          "model_module": "@jupyter-widgets/controls",
          "model_name": "ButtonStyleModel",
          "model_module_version": "1.5.0",
          "state": {
            "_model_module": "@jupyter-widgets/controls",
            "_model_module_version": "1.5.0",
            "_model_name": "ButtonStyleModel",
            "_view_count": null,
            "_view_module": "@jupyter-widgets/base",
            "_view_module_version": "1.2.0",
            "_view_name": "StyleView",
            "button_color": "white",
            "font_weight": ""
          }
        },
        "3780a7be91ce4031abb7aff92abecd53": {
          "model_module": "@jupyter-widgets/controls",
          "model_name": "ButtonStyleModel",
          "model_module_version": "1.5.0",
          "state": {
            "_model_module": "@jupyter-widgets/controls",
            "_model_module_version": "1.5.0",
            "_model_name": "ButtonStyleModel",
            "_view_count": null,
            "_view_module": "@jupyter-widgets/base",
            "_view_module_version": "1.2.0",
            "_view_name": "StyleView",
            "button_color": "white",
            "font_weight": ""
          }
        },
        "cedf673a760b41f5b53fbaffcaedac49": {
          "model_module": "@jupyter-widgets/controls",
          "model_name": "ButtonStyleModel",
          "model_module_version": "1.5.0",
          "state": {
            "_model_module": "@jupyter-widgets/controls",
            "_model_module_version": "1.5.0",
            "_model_name": "ButtonStyleModel",
            "_view_count": null,
            "_view_module": "@jupyter-widgets/base",
            "_view_module_version": "1.2.0",
            "_view_name": "StyleView",
            "button_color": "white",
            "font_weight": ""
          }
        },
        "ed8698b2078547719f3cfcf95ee88b9b": {
          "model_module": "@jupyter-widgets/controls",
          "model_name": "ButtonStyleModel",
          "model_module_version": "1.5.0",
          "state": {
            "_model_module": "@jupyter-widgets/controls",
            "_model_module_version": "1.5.0",
            "_model_name": "ButtonStyleModel",
            "_view_count": null,
            "_view_module": "@jupyter-widgets/base",
            "_view_module_version": "1.2.0",
            "_view_name": "StyleView",
            "button_color": "white",
            "font_weight": ""
          }
        },
        "cefc1dceeab8488a80fcdfba397c23f2": {
          "model_module": "@jupyter-widgets/controls",
          "model_name": "ButtonStyleModel",
          "model_module_version": "1.5.0",
          "state": {
            "_model_module": "@jupyter-widgets/controls",
            "_model_module_version": "1.5.0",
            "_model_name": "ButtonStyleModel",
            "_view_count": null,
            "_view_module": "@jupyter-widgets/base",
            "_view_module_version": "1.2.0",
            "_view_name": "StyleView",
            "button_color": "white",
            "font_weight": ""
          }
        },
        "f1573be5d3fa4cfab206e4b0d51f91b2": {
          "model_module": "@jupyter-widgets/controls",
          "model_name": "ButtonStyleModel",
          "model_module_version": "1.5.0",
          "state": {
            "_model_module": "@jupyter-widgets/controls",
            "_model_module_version": "1.5.0",
            "_model_name": "ButtonStyleModel",
            "_view_count": null,
            "_view_module": "@jupyter-widgets/base",
            "_view_module_version": "1.2.0",
            "_view_name": "StyleView",
            "button_color": "white",
            "font_weight": ""
          }
        },
        "5fb8c610bd304d6c8f070507bb15049b": {
          "model_module": "@jupyter-widgets/controls",
          "model_name": "ButtonStyleModel",
          "model_module_version": "1.5.0",
          "state": {
            "_model_module": "@jupyter-widgets/controls",
            "_model_module_version": "1.5.0",
            "_model_name": "ButtonStyleModel",
            "_view_count": null,
            "_view_module": "@jupyter-widgets/base",
            "_view_module_version": "1.2.0",
            "_view_name": "StyleView",
            "button_color": "white",
            "font_weight": ""
          }
        },
        "710c2c9b94e34746b029743ae234f4a9": {
          "model_module": "@jupyter-widgets/controls",
          "model_name": "ButtonStyleModel",
          "model_module_version": "1.5.0",
          "state": {
            "_model_module": "@jupyter-widgets/controls",
            "_model_module_version": "1.5.0",
            "_model_name": "ButtonStyleModel",
            "_view_count": null,
            "_view_module": "@jupyter-widgets/base",
            "_view_module_version": "1.2.0",
            "_view_name": "StyleView",
            "button_color": "white",
            "font_weight": ""
          }
        },
        "fd441ba8ca6348b69e5323c7c7a17195": {
          "model_module": "@jupyter-widgets/controls",
          "model_name": "ButtonStyleModel",
          "model_module_version": "1.5.0",
          "state": {
            "_model_module": "@jupyter-widgets/controls",
            "_model_module_version": "1.5.0",
            "_model_name": "ButtonStyleModel",
            "_view_count": null,
            "_view_module": "@jupyter-widgets/base",
            "_view_module_version": "1.2.0",
            "_view_name": "StyleView",
            "button_color": "white",
            "font_weight": ""
          }
        },
        "2b4fe0cd4d684ecbb7a272b670057f6e": {
          "model_module": "@jupyter-widgets/controls",
          "model_name": "ButtonStyleModel",
          "model_module_version": "1.5.0",
          "state": {
            "_model_module": "@jupyter-widgets/controls",
            "_model_module_version": "1.5.0",
            "_model_name": "ButtonStyleModel",
            "_view_count": null,
            "_view_module": "@jupyter-widgets/base",
            "_view_module_version": "1.2.0",
            "_view_name": "StyleView",
            "button_color": "white",
            "font_weight": ""
          }
        },
        "9e639b2546844059b54405bb599aff98": {
          "model_module": "@jupyter-widgets/controls",
          "model_name": "ButtonModel",
          "model_module_version": "1.5.0",
          "state": {
            "_dom_classes": [],
            "_model_module": "@jupyter-widgets/controls",
            "_model_module_version": "1.5.0",
            "_model_name": "ButtonModel",
            "_view_count": null,
            "_view_module": "@jupyter-widgets/controls",
            "_view_module_version": "1.5.0",
            "_view_name": "ButtonView",
            "button_style": "",
            "description": "Select enter after each guess.",
            "disabled": true,
            "icon": "",
            "layout": "IPY_MODEL_bb105985245a4b82b2d518c2dbe19ef6",
            "style": "IPY_MODEL_0fded1ceefcf4e2ea33028e2ea6764b5",
            "tooltip": ""
          }
        },
        "bb105985245a4b82b2d518c2dbe19ef6": {
          "model_module": "@jupyter-widgets/base",
          "model_name": "LayoutModel",
          "model_module_version": "1.2.0",
          "state": {
            "_model_module": "@jupyter-widgets/base",
            "_model_module_version": "1.2.0",
            "_model_name": "LayoutModel",
            "_view_count": null,
            "_view_module": "@jupyter-widgets/base",
            "_view_module_version": "1.2.0",
            "_view_name": "LayoutView",
            "align_content": null,
            "align_items": null,
            "align_self": null,
            "border": null,
            "bottom": null,
            "display": null,
            "flex": null,
            "flex_flow": null,
            "grid_area": null,
            "grid_auto_columns": null,
            "grid_auto_flow": null,
            "grid_auto_rows": null,
            "grid_column": null,
            "grid_gap": null,
            "grid_row": null,
            "grid_template_areas": null,
            "grid_template_columns": null,
            "grid_template_rows": null,
            "height": "50px",
            "justify_content": null,
            "justify_items": null,
            "left": null,
            "margin": null,
            "max_height": null,
            "max_width": null,
            "min_height": null,
            "min_width": null,
            "object_fit": null,
            "object_position": null,
            "order": null,
            "overflow": null,
            "overflow_x": null,
            "overflow_y": null,
            "padding": null,
            "right": null,
            "top": null,
            "visibility": null,
            "width": "auto"
          }
        },
        "0fded1ceefcf4e2ea33028e2ea6764b5": {
          "model_module": "@jupyter-widgets/controls",
          "model_name": "ButtonStyleModel",
          "model_module_version": "1.5.0",
          "state": {
            "_model_module": "@jupyter-widgets/controls",
            "_model_module_version": "1.5.0",
            "_model_name": "ButtonStyleModel",
            "_view_count": null,
            "_view_module": "@jupyter-widgets/base",
            "_view_module_version": "1.2.0",
            "_view_name": "StyleView",
            "button_color": null,
            "font_weight": ""
          }
        },
        "49b32e5797e543e393f4048badae1c4d": {
          "model_module": "@jupyter-widgets/controls",
          "model_name": "GridBoxModel",
          "model_module_version": "1.5.0",
          "state": {
            "_dom_classes": [],
            "_model_module": "@jupyter-widgets/controls",
            "_model_module_version": "1.5.0",
            "_model_name": "GridBoxModel",
            "_view_count": null,
            "_view_module": "@jupyter-widgets/controls",
            "_view_module_version": "1.5.0",
            "_view_name": "GridBoxView",
            "box_style": "",
            "children": [
              "IPY_MODEL_e10ee94a701e41c29067da9059baa921",
              "IPY_MODEL_35554b7750b94d458f74638ffb5d5a0d",
              "IPY_MODEL_ee221500fe7f4e599ca50356976ef9f2",
              "IPY_MODEL_c4633937d0ba499c98b15cb44971a786",
              "IPY_MODEL_3695bf7b2c1a441ea27c638ddcfa50dd",
              "IPY_MODEL_9887fbcf509f420f9f400eeaf41a6bc6",
              "IPY_MODEL_b4a97a40b0954cf681f8b0ed0d3f5694",
              "IPY_MODEL_b8db239647174839a152e9e992375628",
              "IPY_MODEL_4723c6c4092845dda95d1459022bac92",
              "IPY_MODEL_9f8923ae2f4449b895473725457ab857",
              "IPY_MODEL_146f8c3be9cf4601b44af3507b1ca21d",
              "IPY_MODEL_3103e47872d542a1b5305c9a6e59ab43",
              "IPY_MODEL_bbd2cb42674a45c790d9f7c7b9b49479",
              "IPY_MODEL_368124bc1d7a4f1695d1bce6695a6f97",
              "IPY_MODEL_2fe7fb6dbc7d400baf430c42f3ac2a7a",
              "IPY_MODEL_65bf93008a5a4157b588ef16e2a98569",
              "IPY_MODEL_e365d6fd62cc494f8c82018b8f7c4c6b",
              "IPY_MODEL_eb441a12eb054363a00922b1f95e0a33",
              "IPY_MODEL_70a3c8a9ffef411bb9dfdbeef88fc5e2",
              "IPY_MODEL_ced32e2247874132805704776f9c406c",
              "IPY_MODEL_3019222312a047fcb0aa9a93644a57c5",
              "IPY_MODEL_b3df34681a584a4a90bec5b7934a832c",
              "IPY_MODEL_9d12f2aba4044464803efaff7f3a33d0",
              "IPY_MODEL_e0ee460e517f4813bbce45fa489465e6",
              "IPY_MODEL_db98f4c600e84be885b865a3e542f765",
              "IPY_MODEL_3db2a5cb025d40a49c981c8ec35c2237",
              "IPY_MODEL_b901f7dc14d147d290e42ad910f3a56e",
              "IPY_MODEL_a75ce69dd3684ad3a0825333cef9469c"
            ],
            "layout": "IPY_MODEL_863820844cb840abb38531f1384b4207"
          }
        },
        "e10ee94a701e41c29067da9059baa921": {
          "model_module": "@jupyter-widgets/controls",
          "model_name": "ButtonModel",
          "model_module_version": "1.5.0",
          "state": {
            "_dom_classes": [],
            "_model_module": "@jupyter-widgets/controls",
            "_model_module_version": "1.5.0",
            "_model_name": "ButtonModel",
            "_view_count": null,
            "_view_module": "@jupyter-widgets/controls",
            "_view_module_version": "1.5.0",
            "_view_name": "ButtonView",
            "button_style": "",
            "description": "A",
            "disabled": false,
            "icon": "",
            "layout": "IPY_MODEL_64651dc3b053446383c8f6c35147e84c",
            "style": "IPY_MODEL_b3e6afe6e8244f24a3fdf1143d9ebaa4",
            "tooltip": ""
          }
        },
        "35554b7750b94d458f74638ffb5d5a0d": {
          "model_module": "@jupyter-widgets/controls",
          "model_name": "ButtonModel",
          "model_module_version": "1.5.0",
          "state": {
            "_dom_classes": [],
            "_model_module": "@jupyter-widgets/controls",
            "_model_module_version": "1.5.0",
            "_model_name": "ButtonModel",
            "_view_count": null,
            "_view_module": "@jupyter-widgets/controls",
            "_view_module_version": "1.5.0",
            "_view_name": "ButtonView",
            "button_style": "",
            "description": "B",
            "disabled": false,
            "icon": "",
            "layout": "IPY_MODEL_64651dc3b053446383c8f6c35147e84c",
            "style": "IPY_MODEL_437e8b00889a409b92da022af1052f29",
            "tooltip": ""
          }
        },
        "ee221500fe7f4e599ca50356976ef9f2": {
          "model_module": "@jupyter-widgets/controls",
          "model_name": "ButtonModel",
          "model_module_version": "1.5.0",
          "state": {
            "_dom_classes": [],
            "_model_module": "@jupyter-widgets/controls",
            "_model_module_version": "1.5.0",
            "_model_name": "ButtonModel",
            "_view_count": null,
            "_view_module": "@jupyter-widgets/controls",
            "_view_module_version": "1.5.0",
            "_view_name": "ButtonView",
            "button_style": "",
            "description": "C",
            "disabled": false,
            "icon": "",
            "layout": "IPY_MODEL_64651dc3b053446383c8f6c35147e84c",
            "style": "IPY_MODEL_7fea5f45b51b4c5d99d40370248066ab",
            "tooltip": ""
          }
        },
        "c4633937d0ba499c98b15cb44971a786": {
          "model_module": "@jupyter-widgets/controls",
          "model_name": "ButtonModel",
          "model_module_version": "1.5.0",
          "state": {
            "_dom_classes": [],
            "_model_module": "@jupyter-widgets/controls",
            "_model_module_version": "1.5.0",
            "_model_name": "ButtonModel",
            "_view_count": null,
            "_view_module": "@jupyter-widgets/controls",
            "_view_module_version": "1.5.0",
            "_view_name": "ButtonView",
            "button_style": "",
            "description": "D",
            "disabled": false,
            "icon": "",
            "layout": "IPY_MODEL_64651dc3b053446383c8f6c35147e84c",
            "style": "IPY_MODEL_4a754e428c574c74b14cac701f4bdba2",
            "tooltip": ""
          }
        },
        "3695bf7b2c1a441ea27c638ddcfa50dd": {
          "model_module": "@jupyter-widgets/controls",
          "model_name": "ButtonModel",
          "model_module_version": "1.5.0",
          "state": {
            "_dom_classes": [],
            "_model_module": "@jupyter-widgets/controls",
            "_model_module_version": "1.5.0",
            "_model_name": "ButtonModel",
            "_view_count": null,
            "_view_module": "@jupyter-widgets/controls",
            "_view_module_version": "1.5.0",
            "_view_name": "ButtonView",
            "button_style": "",
            "description": "E",
            "disabled": false,
            "icon": "",
            "layout": "IPY_MODEL_64651dc3b053446383c8f6c35147e84c",
            "style": "IPY_MODEL_493b4b564e8d497bb0ab3b88297d8a0d",
            "tooltip": ""
          }
        },
        "9887fbcf509f420f9f400eeaf41a6bc6": {
          "model_module": "@jupyter-widgets/controls",
          "model_name": "ButtonModel",
          "model_module_version": "1.5.0",
          "state": {
            "_dom_classes": [],
            "_model_module": "@jupyter-widgets/controls",
            "_model_module_version": "1.5.0",
            "_model_name": "ButtonModel",
            "_view_count": null,
            "_view_module": "@jupyter-widgets/controls",
            "_view_module_version": "1.5.0",
            "_view_name": "ButtonView",
            "button_style": "",
            "description": "F",
            "disabled": false,
            "icon": "",
            "layout": "IPY_MODEL_64651dc3b053446383c8f6c35147e84c",
            "style": "IPY_MODEL_b9af5b942c0947e19cbf8f96ed2d290f",
            "tooltip": ""
          }
        },
        "b4a97a40b0954cf681f8b0ed0d3f5694": {
          "model_module": "@jupyter-widgets/controls",
          "model_name": "ButtonModel",
          "model_module_version": "1.5.0",
          "state": {
            "_dom_classes": [],
            "_model_module": "@jupyter-widgets/controls",
            "_model_module_version": "1.5.0",
            "_model_name": "ButtonModel",
            "_view_count": null,
            "_view_module": "@jupyter-widgets/controls",
            "_view_module_version": "1.5.0",
            "_view_name": "ButtonView",
            "button_style": "",
            "description": "G",
            "disabled": false,
            "icon": "",
            "layout": "IPY_MODEL_64651dc3b053446383c8f6c35147e84c",
            "style": "IPY_MODEL_ebb1c8107c944e7e8283ac9fcc913900",
            "tooltip": ""
          }
        },
        "b8db239647174839a152e9e992375628": {
          "model_module": "@jupyter-widgets/controls",
          "model_name": "ButtonModel",
          "model_module_version": "1.5.0",
          "state": {
            "_dom_classes": [],
            "_model_module": "@jupyter-widgets/controls",
            "_model_module_version": "1.5.0",
            "_model_name": "ButtonModel",
            "_view_count": null,
            "_view_module": "@jupyter-widgets/controls",
            "_view_module_version": "1.5.0",
            "_view_name": "ButtonView",
            "button_style": "",
            "description": "H",
            "disabled": false,
            "icon": "",
            "layout": "IPY_MODEL_64651dc3b053446383c8f6c35147e84c",
            "style": "IPY_MODEL_f4f68ac63dda4759b9bf9f157dc86276",
            "tooltip": ""
          }
        },
        "4723c6c4092845dda95d1459022bac92": {
          "model_module": "@jupyter-widgets/controls",
          "model_name": "ButtonModel",
          "model_module_version": "1.5.0",
          "state": {
            "_dom_classes": [],
            "_model_module": "@jupyter-widgets/controls",
            "_model_module_version": "1.5.0",
            "_model_name": "ButtonModel",
            "_view_count": null,
            "_view_module": "@jupyter-widgets/controls",
            "_view_module_version": "1.5.0",
            "_view_name": "ButtonView",
            "button_style": "",
            "description": "I",
            "disabled": false,
            "icon": "",
            "layout": "IPY_MODEL_64651dc3b053446383c8f6c35147e84c",
            "style": "IPY_MODEL_ca43d1a1d42b490f8768e053ee77188c",
            "tooltip": ""
          }
        },
        "9f8923ae2f4449b895473725457ab857": {
          "model_module": "@jupyter-widgets/controls",
          "model_name": "ButtonModel",
          "model_module_version": "1.5.0",
          "state": {
            "_dom_classes": [],
            "_model_module": "@jupyter-widgets/controls",
            "_model_module_version": "1.5.0",
            "_model_name": "ButtonModel",
            "_view_count": null,
            "_view_module": "@jupyter-widgets/controls",
            "_view_module_version": "1.5.0",
            "_view_name": "ButtonView",
            "button_style": "",
            "description": "J",
            "disabled": false,
            "icon": "",
            "layout": "IPY_MODEL_64651dc3b053446383c8f6c35147e84c",
            "style": "IPY_MODEL_79921b5a04794e9c9f030e30e9dd296c",
            "tooltip": ""
          }
        },
        "146f8c3be9cf4601b44af3507b1ca21d": {
          "model_module": "@jupyter-widgets/controls",
          "model_name": "ButtonModel",
          "model_module_version": "1.5.0",
          "state": {
            "_dom_classes": [],
            "_model_module": "@jupyter-widgets/controls",
            "_model_module_version": "1.5.0",
            "_model_name": "ButtonModel",
            "_view_count": null,
            "_view_module": "@jupyter-widgets/controls",
            "_view_module_version": "1.5.0",
            "_view_name": "ButtonView",
            "button_style": "",
            "description": "K",
            "disabled": false,
            "icon": "",
            "layout": "IPY_MODEL_64651dc3b053446383c8f6c35147e84c",
            "style": "IPY_MODEL_c9dce75ca056423990ff7c9c3d5ad886",
            "tooltip": ""
          }
        },
        "3103e47872d542a1b5305c9a6e59ab43": {
          "model_module": "@jupyter-widgets/controls",
          "model_name": "ButtonModel",
          "model_module_version": "1.5.0",
          "state": {
            "_dom_classes": [],
            "_model_module": "@jupyter-widgets/controls",
            "_model_module_version": "1.5.0",
            "_model_name": "ButtonModel",
            "_view_count": null,
            "_view_module": "@jupyter-widgets/controls",
            "_view_module_version": "1.5.0",
            "_view_name": "ButtonView",
            "button_style": "",
            "description": "L",
            "disabled": false,
            "icon": "",
            "layout": "IPY_MODEL_64651dc3b053446383c8f6c35147e84c",
            "style": "IPY_MODEL_cf6a5a2445e948f6881851ad821f92cb",
            "tooltip": ""
          }
        },
        "bbd2cb42674a45c790d9f7c7b9b49479": {
          "model_module": "@jupyter-widgets/controls",
          "model_name": "ButtonModel",
          "model_module_version": "1.5.0",
          "state": {
            "_dom_classes": [],
            "_model_module": "@jupyter-widgets/controls",
            "_model_module_version": "1.5.0",
            "_model_name": "ButtonModel",
            "_view_count": null,
            "_view_module": "@jupyter-widgets/controls",
            "_view_module_version": "1.5.0",
            "_view_name": "ButtonView",
            "button_style": "",
            "description": "M",
            "disabled": false,
            "icon": "",
            "layout": "IPY_MODEL_64651dc3b053446383c8f6c35147e84c",
            "style": "IPY_MODEL_7f2600dbbd4d4cc2a2468d163b4dc5c3",
            "tooltip": ""
          }
        },
        "368124bc1d7a4f1695d1bce6695a6f97": {
          "model_module": "@jupyter-widgets/controls",
          "model_name": "ButtonModel",
          "model_module_version": "1.5.0",
          "state": {
            "_dom_classes": [],
            "_model_module": "@jupyter-widgets/controls",
            "_model_module_version": "1.5.0",
            "_model_name": "ButtonModel",
            "_view_count": null,
            "_view_module": "@jupyter-widgets/controls",
            "_view_module_version": "1.5.0",
            "_view_name": "ButtonView",
            "button_style": "",
            "description": "N",
            "disabled": false,
            "icon": "",
            "layout": "IPY_MODEL_64651dc3b053446383c8f6c35147e84c",
            "style": "IPY_MODEL_6e01075fce9849019eaa9b7ddafae200",
            "tooltip": ""
          }
        },
        "2fe7fb6dbc7d400baf430c42f3ac2a7a": {
          "model_module": "@jupyter-widgets/controls",
          "model_name": "ButtonModel",
          "model_module_version": "1.5.0",
          "state": {
            "_dom_classes": [],
            "_model_module": "@jupyter-widgets/controls",
            "_model_module_version": "1.5.0",
            "_model_name": "ButtonModel",
            "_view_count": null,
            "_view_module": "@jupyter-widgets/controls",
            "_view_module_version": "1.5.0",
            "_view_name": "ButtonView",
            "button_style": "",
            "description": "O",
            "disabled": false,
            "icon": "",
            "layout": "IPY_MODEL_64651dc3b053446383c8f6c35147e84c",
            "style": "IPY_MODEL_46923a83dc394aee99baad1c34fb7b9f",
            "tooltip": ""
          }
        },
        "65bf93008a5a4157b588ef16e2a98569": {
          "model_module": "@jupyter-widgets/controls",
          "model_name": "ButtonModel",
          "model_module_version": "1.5.0",
          "state": {
            "_dom_classes": [],
            "_model_module": "@jupyter-widgets/controls",
            "_model_module_version": "1.5.0",
            "_model_name": "ButtonModel",
            "_view_count": null,
            "_view_module": "@jupyter-widgets/controls",
            "_view_module_version": "1.5.0",
            "_view_name": "ButtonView",
            "button_style": "",
            "description": "P",
            "disabled": false,
            "icon": "",
            "layout": "IPY_MODEL_64651dc3b053446383c8f6c35147e84c",
            "style": "IPY_MODEL_6c724e5ed1a54801a4deb7daa5db68f5",
            "tooltip": ""
          }
        },
        "e365d6fd62cc494f8c82018b8f7c4c6b": {
          "model_module": "@jupyter-widgets/controls",
          "model_name": "ButtonModel",
          "model_module_version": "1.5.0",
          "state": {
            "_dom_classes": [],
            "_model_module": "@jupyter-widgets/controls",
            "_model_module_version": "1.5.0",
            "_model_name": "ButtonModel",
            "_view_count": null,
            "_view_module": "@jupyter-widgets/controls",
            "_view_module_version": "1.5.0",
            "_view_name": "ButtonView",
            "button_style": "",
            "description": "Q",
            "disabled": false,
            "icon": "",
            "layout": "IPY_MODEL_64651dc3b053446383c8f6c35147e84c",
            "style": "IPY_MODEL_581d5457c3384d279b59d20df40f3ef3",
            "tooltip": ""
          }
        },
        "eb441a12eb054363a00922b1f95e0a33": {
          "model_module": "@jupyter-widgets/controls",
          "model_name": "ButtonModel",
          "model_module_version": "1.5.0",
          "state": {
            "_dom_classes": [],
            "_model_module": "@jupyter-widgets/controls",
            "_model_module_version": "1.5.0",
            "_model_name": "ButtonModel",
            "_view_count": null,
            "_view_module": "@jupyter-widgets/controls",
            "_view_module_version": "1.5.0",
            "_view_name": "ButtonView",
            "button_style": "",
            "description": "R",
            "disabled": false,
            "icon": "",
            "layout": "IPY_MODEL_64651dc3b053446383c8f6c35147e84c",
            "style": "IPY_MODEL_5cfa632cfafa4f75a090fb613b92c8a8",
            "tooltip": ""
          }
        },
        "70a3c8a9ffef411bb9dfdbeef88fc5e2": {
          "model_module": "@jupyter-widgets/controls",
          "model_name": "ButtonModel",
          "model_module_version": "1.5.0",
          "state": {
            "_dom_classes": [],
            "_model_module": "@jupyter-widgets/controls",
            "_model_module_version": "1.5.0",
            "_model_name": "ButtonModel",
            "_view_count": null,
            "_view_module": "@jupyter-widgets/controls",
            "_view_module_version": "1.5.0",
            "_view_name": "ButtonView",
            "button_style": "",
            "description": "S",
            "disabled": false,
            "icon": "",
            "layout": "IPY_MODEL_64651dc3b053446383c8f6c35147e84c",
            "style": "IPY_MODEL_5a170da4e11c47e9a46a2527127d9368",
            "tooltip": ""
          }
        },
        "ced32e2247874132805704776f9c406c": {
          "model_module": "@jupyter-widgets/controls",
          "model_name": "ButtonModel",
          "model_module_version": "1.5.0",
          "state": {
            "_dom_classes": [],
            "_model_module": "@jupyter-widgets/controls",
            "_model_module_version": "1.5.0",
            "_model_name": "ButtonModel",
            "_view_count": null,
            "_view_module": "@jupyter-widgets/controls",
            "_view_module_version": "1.5.0",
            "_view_name": "ButtonView",
            "button_style": "",
            "description": "T",
            "disabled": false,
            "icon": "",
            "layout": "IPY_MODEL_64651dc3b053446383c8f6c35147e84c",
            "style": "IPY_MODEL_13d2caeb3caf437089d7b51d532f8d19",
            "tooltip": ""
          }
        },
        "3019222312a047fcb0aa9a93644a57c5": {
          "model_module": "@jupyter-widgets/controls",
          "model_name": "ButtonModel",
          "model_module_version": "1.5.0",
          "state": {
            "_dom_classes": [],
            "_model_module": "@jupyter-widgets/controls",
            "_model_module_version": "1.5.0",
            "_model_name": "ButtonModel",
            "_view_count": null,
            "_view_module": "@jupyter-widgets/controls",
            "_view_module_version": "1.5.0",
            "_view_name": "ButtonView",
            "button_style": "",
            "description": "U",
            "disabled": false,
            "icon": "",
            "layout": "IPY_MODEL_64651dc3b053446383c8f6c35147e84c",
            "style": "IPY_MODEL_0e917fb9311f4867830059aebfc2ab86",
            "tooltip": ""
          }
        },
        "b3df34681a584a4a90bec5b7934a832c": {
          "model_module": "@jupyter-widgets/controls",
          "model_name": "ButtonModel",
          "model_module_version": "1.5.0",
          "state": {
            "_dom_classes": [],
            "_model_module": "@jupyter-widgets/controls",
            "_model_module_version": "1.5.0",
            "_model_name": "ButtonModel",
            "_view_count": null,
            "_view_module": "@jupyter-widgets/controls",
            "_view_module_version": "1.5.0",
            "_view_name": "ButtonView",
            "button_style": "",
            "description": "V",
            "disabled": false,
            "icon": "",
            "layout": "IPY_MODEL_64651dc3b053446383c8f6c35147e84c",
            "style": "IPY_MODEL_c77fda99eb104312a1fd046d16b72cf5",
            "tooltip": ""
          }
        },
        "9d12f2aba4044464803efaff7f3a33d0": {
          "model_module": "@jupyter-widgets/controls",
          "model_name": "ButtonModel",
          "model_module_version": "1.5.0",
          "state": {
            "_dom_classes": [],
            "_model_module": "@jupyter-widgets/controls",
            "_model_module_version": "1.5.0",
            "_model_name": "ButtonModel",
            "_view_count": null,
            "_view_module": "@jupyter-widgets/controls",
            "_view_module_version": "1.5.0",
            "_view_name": "ButtonView",
            "button_style": "",
            "description": "W",
            "disabled": false,
            "icon": "",
            "layout": "IPY_MODEL_64651dc3b053446383c8f6c35147e84c",
            "style": "IPY_MODEL_1771cad3bf0e4b488a981d475cbbfd52",
            "tooltip": ""
          }
        },
        "e0ee460e517f4813bbce45fa489465e6": {
          "model_module": "@jupyter-widgets/controls",
          "model_name": "ButtonModel",
          "model_module_version": "1.5.0",
          "state": {
            "_dom_classes": [],
            "_model_module": "@jupyter-widgets/controls",
            "_model_module_version": "1.5.0",
            "_model_name": "ButtonModel",
            "_view_count": null,
            "_view_module": "@jupyter-widgets/controls",
            "_view_module_version": "1.5.0",
            "_view_name": "ButtonView",
            "button_style": "",
            "description": "X",
            "disabled": false,
            "icon": "",
            "layout": "IPY_MODEL_64651dc3b053446383c8f6c35147e84c",
            "style": "IPY_MODEL_1305ce27d8044afd878a5869ceeab336",
            "tooltip": ""
          }
        },
        "db98f4c600e84be885b865a3e542f765": {
          "model_module": "@jupyter-widgets/controls",
          "model_name": "ButtonModel",
          "model_module_version": "1.5.0",
          "state": {
            "_dom_classes": [],
            "_model_module": "@jupyter-widgets/controls",
            "_model_module_version": "1.5.0",
            "_model_name": "ButtonModel",
            "_view_count": null,
            "_view_module": "@jupyter-widgets/controls",
            "_view_module_version": "1.5.0",
            "_view_name": "ButtonView",
            "button_style": "",
            "description": "Y",
            "disabled": false,
            "icon": "",
            "layout": "IPY_MODEL_64651dc3b053446383c8f6c35147e84c",
            "style": "IPY_MODEL_6137c0f7e0c24c9e93a2126e0db7d7a5",
            "tooltip": ""
          }
        },
        "3db2a5cb025d40a49c981c8ec35c2237": {
          "model_module": "@jupyter-widgets/controls",
          "model_name": "ButtonModel",
          "model_module_version": "1.5.0",
          "state": {
            "_dom_classes": [],
            "_model_module": "@jupyter-widgets/controls",
            "_model_module_version": "1.5.0",
            "_model_name": "ButtonModel",
            "_view_count": null,
            "_view_module": "@jupyter-widgets/controls",
            "_view_module_version": "1.5.0",
            "_view_name": "ButtonView",
            "button_style": "",
            "description": "Z",
            "disabled": false,
            "icon": "",
            "layout": "IPY_MODEL_64651dc3b053446383c8f6c35147e84c",
            "style": "IPY_MODEL_27e89e719b9f4d0aa1146bfaa9638a2e",
            "tooltip": ""
          }
        },
        "b901f7dc14d147d290e42ad910f3a56e": {
          "model_module": "@jupyter-widgets/controls",
          "model_name": "ButtonModel",
          "model_module_version": "1.5.0",
          "state": {
            "_dom_classes": [],
            "_model_module": "@jupyter-widgets/controls",
            "_model_module_version": "1.5.0",
            "_model_name": "ButtonModel",
            "_view_count": null,
            "_view_module": "@jupyter-widgets/controls",
            "_view_module_version": "1.5.0",
            "_view_name": "ButtonView",
            "button_style": "",
            "description": "←",
            "disabled": false,
            "icon": "",
            "layout": "IPY_MODEL_64651dc3b053446383c8f6c35147e84c",
            "style": "IPY_MODEL_8361c09b3e214c7ca1e6c29187494d7a",
            "tooltip": ""
          }
        },
        "a75ce69dd3684ad3a0825333cef9469c": {
          "model_module": "@jupyter-widgets/controls",
          "model_name": "ButtonModel",
          "model_module_version": "1.5.0",
          "state": {
            "_dom_classes": [],
            "_model_module": "@jupyter-widgets/controls",
            "_model_module_version": "1.5.0",
            "_model_name": "ButtonModel",
            "_view_count": null,
            "_view_module": "@jupyter-widgets/controls",
            "_view_module_version": "1.5.0",
            "_view_name": "ButtonView",
            "button_style": "",
            "description": "⏎",
            "disabled": false,
            "icon": "",
            "layout": "IPY_MODEL_64651dc3b053446383c8f6c35147e84c",
            "style": "IPY_MODEL_198b2e0560c04407abbdfa9bb3bd29c2",
            "tooltip": ""
          }
        },
        "863820844cb840abb38531f1384b4207": {
          "model_module": "@jupyter-widgets/base",
          "model_name": "LayoutModel",
          "model_module_version": "1.2.0",
          "state": {
            "_model_module": "@jupyter-widgets/base",
            "_model_module_version": "1.2.0",
            "_model_name": "LayoutModel",
            "_view_count": null,
            "_view_module": "@jupyter-widgets/base",
            "_view_module_version": "1.2.0",
            "_view_name": "LayoutView",
            "align_content": null,
            "align_items": null,
            "align_self": null,
            "border": null,
            "bottom": null,
            "display": null,
            "flex": null,
            "flex_flow": null,
            "grid_area": null,
            "grid_auto_columns": null,
            "grid_auto_flow": null,
            "grid_auto_rows": null,
            "grid_column": null,
            "grid_gap": null,
            "grid_row": null,
            "grid_template_areas": null,
            "grid_template_columns": "repeat(14, 40px)",
            "grid_template_rows": null,
            "height": null,
            "justify_content": null,
            "justify_items": null,
            "left": null,
            "margin": null,
            "max_height": null,
            "max_width": null,
            "min_height": null,
            "min_width": null,
            "object_fit": null,
            "object_position": null,
            "order": null,
            "overflow": null,
            "overflow_x": null,
            "overflow_y": null,
            "padding": null,
            "right": null,
            "top": null,
            "visibility": null,
            "width": null
          }
        },
        "64651dc3b053446383c8f6c35147e84c": {
          "model_module": "@jupyter-widgets/base",
          "model_name": "LayoutModel",
          "model_module_version": "1.2.0",
          "state": {
            "_model_module": "@jupyter-widgets/base",
            "_model_module_version": "1.2.0",
            "_model_name": "LayoutModel",
            "_view_count": null,
            "_view_module": "@jupyter-widgets/base",
            "_view_module_version": "1.2.0",
            "_view_name": "LayoutView",
            "align_content": null,
            "align_items": null,
            "align_self": null,
            "border": "1px solid",
            "bottom": null,
            "display": null,
            "flex": null,
            "flex_flow": null,
            "grid_area": null,
            "grid_auto_columns": null,
            "grid_auto_flow": null,
            "grid_auto_rows": null,
            "grid_column": null,
            "grid_gap": null,
            "grid_row": null,
            "grid_template_areas": null,
            "grid_template_columns": null,
            "grid_template_rows": null,
            "height": "40px",
            "justify_content": null,
            "justify_items": null,
            "left": null,
            "margin": null,
            "max_height": null,
            "max_width": null,
            "min_height": null,
            "min_width": null,
            "object_fit": null,
            "object_position": null,
            "order": null,
            "overflow": null,
            "overflow_x": null,
            "overflow_y": null,
            "padding": null,
            "right": null,
            "top": null,
            "visibility": null,
            "width": "auto"
          }
        },
        "b3e6afe6e8244f24a3fdf1143d9ebaa4": {
          "model_module": "@jupyter-widgets/controls",
          "model_name": "ButtonStyleModel",
          "model_module_version": "1.5.0",
          "state": {
            "_model_module": "@jupyter-widgets/controls",
            "_model_module_version": "1.5.0",
            "_model_name": "ButtonStyleModel",
            "_view_count": null,
            "_view_module": "@jupyter-widgets/base",
            "_view_module_version": "1.2.0",
            "_view_name": "StyleView",
            "button_color": "white",
            "font_weight": ""
          }
        },
        "437e8b00889a409b92da022af1052f29": {
          "model_module": "@jupyter-widgets/controls",
          "model_name": "ButtonStyleModel",
          "model_module_version": "1.5.0",
          "state": {
            "_model_module": "@jupyter-widgets/controls",
            "_model_module_version": "1.5.0",
            "_model_name": "ButtonStyleModel",
            "_view_count": null,
            "_view_module": "@jupyter-widgets/base",
            "_view_module_version": "1.2.0",
            "_view_name": "StyleView",
            "button_color": "white",
            "font_weight": ""
          }
        },
        "7fea5f45b51b4c5d99d40370248066ab": {
          "model_module": "@jupyter-widgets/controls",
          "model_name": "ButtonStyleModel",
          "model_module_version": "1.5.0",
          "state": {
            "_model_module": "@jupyter-widgets/controls",
            "_model_module_version": "1.5.0",
            "_model_name": "ButtonStyleModel",
            "_view_count": null,
            "_view_module": "@jupyter-widgets/base",
            "_view_module_version": "1.2.0",
            "_view_name": "StyleView",
            "button_color": "white",
            "font_weight": ""
          }
        },
        "4a754e428c574c74b14cac701f4bdba2": {
          "model_module": "@jupyter-widgets/controls",
          "model_name": "ButtonStyleModel",
          "model_module_version": "1.5.0",
          "state": {
            "_model_module": "@jupyter-widgets/controls",
            "_model_module_version": "1.5.0",
            "_model_name": "ButtonStyleModel",
            "_view_count": null,
            "_view_module": "@jupyter-widgets/base",
            "_view_module_version": "1.2.0",
            "_view_name": "StyleView",
            "button_color": "white",
            "font_weight": ""
          }
        },
        "493b4b564e8d497bb0ab3b88297d8a0d": {
          "model_module": "@jupyter-widgets/controls",
          "model_name": "ButtonStyleModel",
          "model_module_version": "1.5.0",
          "state": {
            "_model_module": "@jupyter-widgets/controls",
            "_model_module_version": "1.5.0",
            "_model_name": "ButtonStyleModel",
            "_view_count": null,
            "_view_module": "@jupyter-widgets/base",
            "_view_module_version": "1.2.0",
            "_view_name": "StyleView",
            "button_color": "white",
            "font_weight": ""
          }
        },
        "b9af5b942c0947e19cbf8f96ed2d290f": {
          "model_module": "@jupyter-widgets/controls",
          "model_name": "ButtonStyleModel",
          "model_module_version": "1.5.0",
          "state": {
            "_model_module": "@jupyter-widgets/controls",
            "_model_module_version": "1.5.0",
            "_model_name": "ButtonStyleModel",
            "_view_count": null,
            "_view_module": "@jupyter-widgets/base",
            "_view_module_version": "1.2.0",
            "_view_name": "StyleView",
            "button_color": "white",
            "font_weight": ""
          }
        },
        "ebb1c8107c944e7e8283ac9fcc913900": {
          "model_module": "@jupyter-widgets/controls",
          "model_name": "ButtonStyleModel",
          "model_module_version": "1.5.0",
          "state": {
            "_model_module": "@jupyter-widgets/controls",
            "_model_module_version": "1.5.0",
            "_model_name": "ButtonStyleModel",
            "_view_count": null,
            "_view_module": "@jupyter-widgets/base",
            "_view_module_version": "1.2.0",
            "_view_name": "StyleView",
            "button_color": "white",
            "font_weight": ""
          }
        },
        "f4f68ac63dda4759b9bf9f157dc86276": {
          "model_module": "@jupyter-widgets/controls",
          "model_name": "ButtonStyleModel",
          "model_module_version": "1.5.0",
          "state": {
            "_model_module": "@jupyter-widgets/controls",
            "_model_module_version": "1.5.0",
            "_model_name": "ButtonStyleModel",
            "_view_count": null,
            "_view_module": "@jupyter-widgets/base",
            "_view_module_version": "1.2.0",
            "_view_name": "StyleView",
            "button_color": "white",
            "font_weight": ""
          }
        },
        "ca43d1a1d42b490f8768e053ee77188c": {
          "model_module": "@jupyter-widgets/controls",
          "model_name": "ButtonStyleModel",
          "model_module_version": "1.5.0",
          "state": {
            "_model_module": "@jupyter-widgets/controls",
            "_model_module_version": "1.5.0",
            "_model_name": "ButtonStyleModel",
            "_view_count": null,
            "_view_module": "@jupyter-widgets/base",
            "_view_module_version": "1.2.0",
            "_view_name": "StyleView",
            "button_color": "white",
            "font_weight": ""
          }
        },
        "79921b5a04794e9c9f030e30e9dd296c": {
          "model_module": "@jupyter-widgets/controls",
          "model_name": "ButtonStyleModel",
          "model_module_version": "1.5.0",
          "state": {
            "_model_module": "@jupyter-widgets/controls",
            "_model_module_version": "1.5.0",
            "_model_name": "ButtonStyleModel",
            "_view_count": null,
            "_view_module": "@jupyter-widgets/base",
            "_view_module_version": "1.2.0",
            "_view_name": "StyleView",
            "button_color": "white",
            "font_weight": ""
          }
        },
        "c9dce75ca056423990ff7c9c3d5ad886": {
          "model_module": "@jupyter-widgets/controls",
          "model_name": "ButtonStyleModel",
          "model_module_version": "1.5.0",
          "state": {
            "_model_module": "@jupyter-widgets/controls",
            "_model_module_version": "1.5.0",
            "_model_name": "ButtonStyleModel",
            "_view_count": null,
            "_view_module": "@jupyter-widgets/base",
            "_view_module_version": "1.2.0",
            "_view_name": "StyleView",
            "button_color": "white",
            "font_weight": ""
          }
        },
        "cf6a5a2445e948f6881851ad821f92cb": {
          "model_module": "@jupyter-widgets/controls",
          "model_name": "ButtonStyleModel",
          "model_module_version": "1.5.0",
          "state": {
            "_model_module": "@jupyter-widgets/controls",
            "_model_module_version": "1.5.0",
            "_model_name": "ButtonStyleModel",
            "_view_count": null,
            "_view_module": "@jupyter-widgets/base",
            "_view_module_version": "1.2.0",
            "_view_name": "StyleView",
            "button_color": "white",
            "font_weight": ""
          }
        },
        "7f2600dbbd4d4cc2a2468d163b4dc5c3": {
          "model_module": "@jupyter-widgets/controls",
          "model_name": "ButtonStyleModel",
          "model_module_version": "1.5.0",
          "state": {
            "_model_module": "@jupyter-widgets/controls",
            "_model_module_version": "1.5.0",
            "_model_name": "ButtonStyleModel",
            "_view_count": null,
            "_view_module": "@jupyter-widgets/base",
            "_view_module_version": "1.2.0",
            "_view_name": "StyleView",
            "button_color": "white",
            "font_weight": ""
          }
        },
        "6e01075fce9849019eaa9b7ddafae200": {
          "model_module": "@jupyter-widgets/controls",
          "model_name": "ButtonStyleModel",
          "model_module_version": "1.5.0",
          "state": {
            "_model_module": "@jupyter-widgets/controls",
            "_model_module_version": "1.5.0",
            "_model_name": "ButtonStyleModel",
            "_view_count": null,
            "_view_module": "@jupyter-widgets/base",
            "_view_module_version": "1.2.0",
            "_view_name": "StyleView",
            "button_color": "white",
            "font_weight": ""
          }
        },
        "46923a83dc394aee99baad1c34fb7b9f": {
          "model_module": "@jupyter-widgets/controls",
          "model_name": "ButtonStyleModel",
          "model_module_version": "1.5.0",
          "state": {
            "_model_module": "@jupyter-widgets/controls",
            "_model_module_version": "1.5.0",
            "_model_name": "ButtonStyleModel",
            "_view_count": null,
            "_view_module": "@jupyter-widgets/base",
            "_view_module_version": "1.2.0",
            "_view_name": "StyleView",
            "button_color": "white",
            "font_weight": ""
          }
        },
        "6c724e5ed1a54801a4deb7daa5db68f5": {
          "model_module": "@jupyter-widgets/controls",
          "model_name": "ButtonStyleModel",
          "model_module_version": "1.5.0",
          "state": {
            "_model_module": "@jupyter-widgets/controls",
            "_model_module_version": "1.5.0",
            "_model_name": "ButtonStyleModel",
            "_view_count": null,
            "_view_module": "@jupyter-widgets/base",
            "_view_module_version": "1.2.0",
            "_view_name": "StyleView",
            "button_color": "white",
            "font_weight": ""
          }
        },
        "581d5457c3384d279b59d20df40f3ef3": {
          "model_module": "@jupyter-widgets/controls",
          "model_name": "ButtonStyleModel",
          "model_module_version": "1.5.0",
          "state": {
            "_model_module": "@jupyter-widgets/controls",
            "_model_module_version": "1.5.0",
            "_model_name": "ButtonStyleModel",
            "_view_count": null,
            "_view_module": "@jupyter-widgets/base",
            "_view_module_version": "1.2.0",
            "_view_name": "StyleView",
            "button_color": "white",
            "font_weight": ""
          }
        },
        "5cfa632cfafa4f75a090fb613b92c8a8": {
          "model_module": "@jupyter-widgets/controls",
          "model_name": "ButtonStyleModel",
          "model_module_version": "1.5.0",
          "state": {
            "_model_module": "@jupyter-widgets/controls",
            "_model_module_version": "1.5.0",
            "_model_name": "ButtonStyleModel",
            "_view_count": null,
            "_view_module": "@jupyter-widgets/base",
            "_view_module_version": "1.2.0",
            "_view_name": "StyleView",
            "button_color": "white",
            "font_weight": ""
          }
        },
        "5a170da4e11c47e9a46a2527127d9368": {
          "model_module": "@jupyter-widgets/controls",
          "model_name": "ButtonStyleModel",
          "model_module_version": "1.5.0",
          "state": {
            "_model_module": "@jupyter-widgets/controls",
            "_model_module_version": "1.5.0",
            "_model_name": "ButtonStyleModel",
            "_view_count": null,
            "_view_module": "@jupyter-widgets/base",
            "_view_module_version": "1.2.0",
            "_view_name": "StyleView",
            "button_color": "white",
            "font_weight": ""
          }
        },
        "13d2caeb3caf437089d7b51d532f8d19": {
          "model_module": "@jupyter-widgets/controls",
          "model_name": "ButtonStyleModel",
          "model_module_version": "1.5.0",
          "state": {
            "_model_module": "@jupyter-widgets/controls",
            "_model_module_version": "1.5.0",
            "_model_name": "ButtonStyleModel",
            "_view_count": null,
            "_view_module": "@jupyter-widgets/base",
            "_view_module_version": "1.2.0",
            "_view_name": "StyleView",
            "button_color": "white",
            "font_weight": ""
          }
        },
        "0e917fb9311f4867830059aebfc2ab86": {
          "model_module": "@jupyter-widgets/controls",
          "model_name": "ButtonStyleModel",
          "model_module_version": "1.5.0",
          "state": {
            "_model_module": "@jupyter-widgets/controls",
            "_model_module_version": "1.5.0",
            "_model_name": "ButtonStyleModel",
            "_view_count": null,
            "_view_module": "@jupyter-widgets/base",
            "_view_module_version": "1.2.0",
            "_view_name": "StyleView",
            "button_color": "white",
            "font_weight": ""
          }
        },
        "c77fda99eb104312a1fd046d16b72cf5": {
          "model_module": "@jupyter-widgets/controls",
          "model_name": "ButtonStyleModel",
          "model_module_version": "1.5.0",
          "state": {
            "_model_module": "@jupyter-widgets/controls",
            "_model_module_version": "1.5.0",
            "_model_name": "ButtonStyleModel",
            "_view_count": null,
            "_view_module": "@jupyter-widgets/base",
            "_view_module_version": "1.2.0",
            "_view_name": "StyleView",
            "button_color": "white",
            "font_weight": ""
          }
        },
        "1771cad3bf0e4b488a981d475cbbfd52": {
          "model_module": "@jupyter-widgets/controls",
          "model_name": "ButtonStyleModel",
          "model_module_version": "1.5.0",
          "state": {
            "_model_module": "@jupyter-widgets/controls",
            "_model_module_version": "1.5.0",
            "_model_name": "ButtonStyleModel",
            "_view_count": null,
            "_view_module": "@jupyter-widgets/base",
            "_view_module_version": "1.2.0",
            "_view_name": "StyleView",
            "button_color": "white",
            "font_weight": ""
          }
        },
        "1305ce27d8044afd878a5869ceeab336": {
          "model_module": "@jupyter-widgets/controls",
          "model_name": "ButtonStyleModel",
          "model_module_version": "1.5.0",
          "state": {
            "_model_module": "@jupyter-widgets/controls",
            "_model_module_version": "1.5.0",
            "_model_name": "ButtonStyleModel",
            "_view_count": null,
            "_view_module": "@jupyter-widgets/base",
            "_view_module_version": "1.2.0",
            "_view_name": "StyleView",
            "button_color": "white",
            "font_weight": ""
          }
        },
        "6137c0f7e0c24c9e93a2126e0db7d7a5": {
          "model_module": "@jupyter-widgets/controls",
          "model_name": "ButtonStyleModel",
          "model_module_version": "1.5.0",
          "state": {
            "_model_module": "@jupyter-widgets/controls",
            "_model_module_version": "1.5.0",
            "_model_name": "ButtonStyleModel",
            "_view_count": null,
            "_view_module": "@jupyter-widgets/base",
            "_view_module_version": "1.2.0",
            "_view_name": "StyleView",
            "button_color": "white",
            "font_weight": ""
          }
        },
        "27e89e719b9f4d0aa1146bfaa9638a2e": {
          "model_module": "@jupyter-widgets/controls",
          "model_name": "ButtonStyleModel",
          "model_module_version": "1.5.0",
          "state": {
            "_model_module": "@jupyter-widgets/controls",
            "_model_module_version": "1.5.0",
            "_model_name": "ButtonStyleModel",
            "_view_count": null,
            "_view_module": "@jupyter-widgets/base",
            "_view_module_version": "1.2.0",
            "_view_name": "StyleView",
            "button_color": "white",
            "font_weight": ""
          }
        },
        "8361c09b3e214c7ca1e6c29187494d7a": {
          "model_module": "@jupyter-widgets/controls",
          "model_name": "ButtonStyleModel",
          "model_module_version": "1.5.0",
          "state": {
            "_model_module": "@jupyter-widgets/controls",
            "_model_module_version": "1.5.0",
            "_model_name": "ButtonStyleModel",
            "_view_count": null,
            "_view_module": "@jupyter-widgets/base",
            "_view_module_version": "1.2.0",
            "_view_name": "StyleView",
            "button_color": "red",
            "font_weight": ""
          }
        },
        "198b2e0560c04407abbdfa9bb3bd29c2": {
          "model_module": "@jupyter-widgets/controls",
          "model_name": "ButtonStyleModel",
          "model_module_version": "1.5.0",
          "state": {
            "_model_module": "@jupyter-widgets/controls",
            "_model_module_version": "1.5.0",
            "_model_name": "ButtonStyleModel",
            "_view_count": null,
            "_view_module": "@jupyter-widgets/base",
            "_view_module_version": "1.2.0",
            "_view_name": "StyleView",
            "button_color": "aqua",
            "font_weight": ""
          }
        }
      }
    }
  },
  "cells": [
    {
      "cell_type": "markdown",
      "metadata": {
        "id": "view-in-github",
        "colab_type": "text"
      },
      "source": [
        "<a href=\"https://colab.research.google.com/github/SumitraMukherjee/wordle/blob/main/play_wordle.ipynb\" target=\"_parent\"><img src=\"https://colab.research.google.com/assets/colab-badge.svg\" alt=\"Open In Colab\"/></a>"
      ]
    },
    {
      "cell_type": "markdown",
      "source": [
        "## Wordle\n",
        "Only the 2315 *Wordle* words from *https://github.com/norvig/pytudes/blob/main/ipynb/Wordle.ipynb* are allowed. Agent's guesses are shown after each game. How often can you beat the agent? The agent uses a decision tree that is guaranteed to win in at most 6 guesses. The mean number of guesses for the agent is $\\approx 3.6$."
      ],
      "metadata": {
        "id": "xoU8kKDBvemn"
      }
    },
    {
      "cell_type": "code",
      "source": [
        "import requests\n",
        "r = requests.get('https://raw.githubusercontent.com/SumitraMukherjee/wordle/main/wordlegame.py')\n",
        "with open('wordlegame.py', 'w') as f: f.write(r.text)\n",
        "from wordlegame import Wordle\n",
        "game = Wordle()\n",
        "game.play_game()"
      ],
      "metadata": {
        "colab": {
          "base_uri": "https://localhost:8080/",
          "height": 423,
          "referenced_widgets": [
            "0e32116d3df748a6a99456e9f00c99c9",
            "a5c12dfb29244f6a8f3f3489b126131b",
            "38a5e43e331447f29677b5d123841788",
            "46877e256f4e4821a7188309760eb58f",
            "f849c28c5eb34ee780643338fd567f66",
            "eaa8a080b40547cfac79de69ed6bb08a",
            "c52e7b626efa4a239fa8bd2ae178a90d",
            "f83084e0a54e4fb5b389047b47e3a334",
            "4dfe72161dbe49db82c43d83db2a12ba",
            "445fb40aef1f4583919accca84025c94",
            "6d3bf63435b94e71bf1777300725a4ba",
            "aab3025b6a8d468a8c26669f2e73fef2",
            "39140c7fe2b84e16875de8e040a6aa9f",
            "36afda3450ed4596b9633037f3941e33",
            "138f38189c9b43bfa31ab523f214f93b",
            "4f09c40443d1434c9f3c521cd78188f8",
            "219efec7422543a0bafb63f7b004496d",
            "22065b217ed241cfbe8a11bca738b71b",
            "6dcd27f3ac7246dfbd52321f7ed17896",
            "5628ca1c4af74a5199d54e23cc06c56d",
            "089f160b33214e22945503a253013bef",
            "02a004ad07fb4033bbcea1613affbe97",
            "51c591657dd94d308060daa65ff06610",
            "844f0dd7480740c4b4b5bd6ce387c6ee",
            "5369c293b47b436285b9d07a461cd845",
            "39293bd7435347bca550b44af6760bf6",
            "46b9c28c55f04a17aae6abed6cb4c94f",
            "84ba26678f2c48458a05b29fa241d5e6",
            "df95d923df9c4b8e900670a5fefc5365",
            "f5aa07bdea4e435793f1f804def6078c",
            "83bd6105a80a44918016a2350405e11c",
            "ae7452e7e2144521869fbe03355921b3",
            "2c87f3b8d521494b87f7b4d72cbbb276",
            "ce428bf994e748fbb51f5e3a4bf2a158",
            "c452da7182a24661a65f7cfc9c7e409d",
            "e26665c238bd4e789e971a98aa9b1d40",
            "e0691186227949d2a24dbba2f6dd3afd",
            "5a60f579e16149f4b4d8549bf659c5c2",
            "49e7b272920843849e6009f42fffca9c",
            "faa0e9e3bdb24e47a59d2d1430ac35db",
            "6fb6f7f191a9406895dda95461bb832a",
            "746d9c0f1b654e2eb9369195ce99f332",
            "6ac77fe373334295beee590f73b15e7d",
            "d334f8121eb648d4944507ec33f4d71d",
            "6a13ebf84b2c4c909730ff3096cc4908",
            "4a2e140e12f240cfb9ac7eae36078f32",
            "2dee1377ec98401d90f9c6171e5ddecf",
            "e9f7a29039e24e4f8ea4043036e415fa",
            "9ea8b2d0203f4da39ba4441fc52464d8",
            "303f51f81ae24a72b4c261ff4d3a6d15",
            "0e64197a68fc43ffbf3ee9cda3d794de",
            "7a9e3c567c234b4c97f2f3fce7b14353",
            "a3811731d98848beb01f8136a076d84e",
            "9282324cc9dc450a928285f8fc0cb5d8",
            "3780a7be91ce4031abb7aff92abecd53",
            "cedf673a760b41f5b53fbaffcaedac49",
            "ed8698b2078547719f3cfcf95ee88b9b",
            "cefc1dceeab8488a80fcdfba397c23f2",
            "f1573be5d3fa4cfab206e4b0d51f91b2",
            "5fb8c610bd304d6c8f070507bb15049b",
            "710c2c9b94e34746b029743ae234f4a9",
            "fd441ba8ca6348b69e5323c7c7a17195",
            "2b4fe0cd4d684ecbb7a272b670057f6e",
            "9e639b2546844059b54405bb599aff98",
            "bb105985245a4b82b2d518c2dbe19ef6",
            "0fded1ceefcf4e2ea33028e2ea6764b5",
            "49b32e5797e543e393f4048badae1c4d",
            "e10ee94a701e41c29067da9059baa921",
            "35554b7750b94d458f74638ffb5d5a0d",
            "ee221500fe7f4e599ca50356976ef9f2",
            "c4633937d0ba499c98b15cb44971a786",
            "3695bf7b2c1a441ea27c638ddcfa50dd",
            "9887fbcf509f420f9f400eeaf41a6bc6",
            "b4a97a40b0954cf681f8b0ed0d3f5694",
            "b8db239647174839a152e9e992375628",
            "4723c6c4092845dda95d1459022bac92",
            "9f8923ae2f4449b895473725457ab857",
            "146f8c3be9cf4601b44af3507b1ca21d",
            "3103e47872d542a1b5305c9a6e59ab43",
            "bbd2cb42674a45c790d9f7c7b9b49479",
            "368124bc1d7a4f1695d1bce6695a6f97",
            "2fe7fb6dbc7d400baf430c42f3ac2a7a",
            "65bf93008a5a4157b588ef16e2a98569",
            "e365d6fd62cc494f8c82018b8f7c4c6b",
            "eb441a12eb054363a00922b1f95e0a33",
            "70a3c8a9ffef411bb9dfdbeef88fc5e2",
            "ced32e2247874132805704776f9c406c",
            "3019222312a047fcb0aa9a93644a57c5",
            "b3df34681a584a4a90bec5b7934a832c",
            "9d12f2aba4044464803efaff7f3a33d0",
            "e0ee460e517f4813bbce45fa489465e6",
            "db98f4c600e84be885b865a3e542f765",
            "3db2a5cb025d40a49c981c8ec35c2237",
            "b901f7dc14d147d290e42ad910f3a56e",
            "a75ce69dd3684ad3a0825333cef9469c",
            "863820844cb840abb38531f1384b4207",
            "64651dc3b053446383c8f6c35147e84c",
            "b3e6afe6e8244f24a3fdf1143d9ebaa4",
            "437e8b00889a409b92da022af1052f29",
            "7fea5f45b51b4c5d99d40370248066ab",
            "4a754e428c574c74b14cac701f4bdba2",
            "493b4b564e8d497bb0ab3b88297d8a0d",
            "b9af5b942c0947e19cbf8f96ed2d290f",
            "ebb1c8107c944e7e8283ac9fcc913900",
            "f4f68ac63dda4759b9bf9f157dc86276",
            "ca43d1a1d42b490f8768e053ee77188c",
            "79921b5a04794e9c9f030e30e9dd296c",
            "c9dce75ca056423990ff7c9c3d5ad886",
            "cf6a5a2445e948f6881851ad821f92cb",
            "7f2600dbbd4d4cc2a2468d163b4dc5c3",
            "6e01075fce9849019eaa9b7ddafae200",
            "46923a83dc394aee99baad1c34fb7b9f",
            "6c724e5ed1a54801a4deb7daa5db68f5",
            "581d5457c3384d279b59d20df40f3ef3",
            "5cfa632cfafa4f75a090fb613b92c8a8",
            "5a170da4e11c47e9a46a2527127d9368",
            "13d2caeb3caf437089d7b51d532f8d19",
            "0e917fb9311f4867830059aebfc2ab86",
            "c77fda99eb104312a1fd046d16b72cf5",
            "1771cad3bf0e4b488a981d475cbbfd52",
            "1305ce27d8044afd878a5869ceeab336",
            "6137c0f7e0c24c9e93a2126e0db7d7a5",
            "27e89e719b9f4d0aa1146bfaa9638a2e",
            "8361c09b3e214c7ca1e6c29187494d7a",
            "198b2e0560c04407abbdfa9bb3bd29c2"
          ]
        },
        "id": "5eX-YSC9qKHq",
        "outputId": "d7745d73-b22b-4c0b-a0a5-d944af12e0df"
      },
      "execution_count": 2,
      "outputs": [
        {
          "output_type": "display_data",
          "data": {
            "text/plain": [
              "GridBox(children=(Button(layout=Layout(border='1px solid', height='40px', width='100%'), style=ButtonStyle(but…"
            ],
            "application/vnd.jupyter.widget-view+json": {
              "version_major": 2,
              "version_minor": 0,
              "model_id": "0e32116d3df748a6a99456e9f00c99c9"
            }
          },
          "metadata": {}
        },
        {
          "output_type": "display_data",
          "data": {
            "text/plain": [
              "Button(description='Select enter after each guess.', disabled=True, layout=Layout(height='50px', width='auto')…"
            ],
            "application/vnd.jupyter.widget-view+json": {
              "version_major": 2,
              "version_minor": 0,
              "model_id": "9e639b2546844059b54405bb599aff98"
            }
          },
          "metadata": {}
        },
        {
          "output_type": "display_data",
          "data": {
            "text/plain": [
              "GridBox(children=(Button(description='A', layout=Layout(border='1px solid', height='40px', width='auto'), styl…"
            ],
            "application/vnd.jupyter.widget-view+json": {
              "version_major": 2,
              "version_minor": 0,
              "model_id": "49b32e5797e543e393f4048badae1c4d"
            }
          },
          "metadata": {}
        }
      ]
    }
  ]
}